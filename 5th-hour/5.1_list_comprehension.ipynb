{
 "cells": [
  {
   "cell_type": "markdown",
   "id": "701ea1ee",
   "metadata": {},
   "source": [
    "##### List Comprehension\n",
    "List comprehension in Python is a compact way of creating a list from a sequence. It is a short way to create a new list. List comprehension is considerably faster than processing a list using the for loop."
   ]
  },
  {
   "cell_type": "code",
   "execution_count": null,
   "id": "b7fcc983",
   "metadata": {},
   "outputs": [
    {
     "name": "stdout",
     "output_type": "stream",
     "text": [
      "<class 'list'>\n",
      "['P', 'y', 't', 'h', 'o', 'n']\n",
      "<class 'list'>\n",
      "['P', 'y', 't', 'h', 'o', 'n']\n"
     ]
    }
   ],
   "source": [
    "# One way\n",
    "language = 'Python'\n",
    "lst = list(language) # changing the string to list\n",
    "print(type(lst))     # list\n",
    "print(lst)           \n",
    "\n",
    "# Second way: list comprehension\n",
    "lst = [i for i in language]\n",
    "print(type(lst)) # list\n",
    "print(lst)       "
   ]
  },
  {
   "cell_type": "code",
   "execution_count": 3,
   "id": "6fe477f5",
   "metadata": {},
   "outputs": [
    {
     "name": "stdout",
     "output_type": "stream",
     "text": [
      "[0, 1, 2, 3, 4, 5, 6, 7, 8, 9, 10]\n",
      "[0, 1, 4, 9, 16, 25, 36, 49, 64, 81, 100]\n",
      "[(0, 0), (1, 1), (2, 4), (3, 9), (4, 16), (5, 25), (6, 36), (7, 49), (8, 64), (9, 81), (10, 100)]\n"
     ]
    }
   ],
   "source": [
    "# Generating numbers\n",
    "numbers = [i for i in range(11)]  # to generate numbers from 0 to 10\n",
    "print(numbers)                    \n",
    "\n",
    "# It is possible to do mathematical operations during iteration\n",
    "squares = [i * i for i in range(11)]\n",
    "print(squares)                    \n",
    "\n",
    "# It is also possible to make a list of tuples\n",
    "numbers = [(i, i * i) for i in range(11)]\n",
    "print(numbers)                             "
   ]
  },
  {
   "cell_type": "code",
   "execution_count": 4,
   "id": "aae2659a",
   "metadata": {},
   "outputs": [
    {
     "name": "stdout",
     "output_type": "stream",
     "text": [
      "[0, 2, 4, 6, 8, 10, 12, 14, 16, 18, 20]\n",
      "[1, 3, 5, 7, 9, 11, 13, 15, 17, 19]\n",
      "[4, 6, 8, 10]\n",
      "[1, 2, 3, 4, 5, 6, 7, 8, 9]\n"
     ]
    }
   ],
   "source": [
    "# Generating even numbers\n",
    "even_numbers = [i for i in range(21) if i % 2 == 0]  # to generate even numbers list in range 0 to 21\n",
    "print(even_numbers)                    \n",
    "\n",
    "# Generating odd numbers\n",
    "odd_numbers = [i for i in range(21) if i % 2 != 0]  # to generate odd numbers in range 0 to 21\n",
    "print(odd_numbers)                \n",
    "      \n",
    "# Filter numbers: let's filter out positive even numbers from the list below\n",
    "numbers = [-8, -7, -3, -1, 0, 1, 3, 4, 5, 7, 6, 8, 10]\n",
    "positive_even_numbers = [i for i in numbers if i % 2 == 0 and i > 0]\n",
    "print(positive_even_numbers)  \n",
    "\n",
    "# Flattening a three dimensional array\n",
    "list_of_lists = [[1, 2, 3], [4, 5, 6], [7, 8, 9]]\n",
    "flattened_list = [ number for row in list_of_lists for number in row]\n",
    "print(flattened_list)    "
   ]
  },
  {
   "cell_type": "markdown",
   "id": "2e2fe720",
   "metadata": {},
   "source": [
    "##### Lambda Function\n",
    "Lambda function is a small anonymous function without a name. It can take any number of arguments, but can only have one expression. Lambda function is similar to anonymous functions in JavaScript. We need it when we want to write an anonymous function inside another function.\n",
    "\n",
    "##### Creating a Lambda Function\n",
    "To create a lambda function we use lambda keyword followed by a parameter(s), followed by an expression. See the syntax and the example below. Lambda function does not use return but it explicitly returns the expression."
   ]
  },
  {
   "cell_type": "code",
   "execution_count": 6,
   "id": "ff25e33b",
   "metadata": {},
   "outputs": [
    {
     "name": "stdout",
     "output_type": "stream",
     "text": [
      "5\n",
      "5\n",
      "9\n",
      "27\n",
      "22\n"
     ]
    }
   ],
   "source": [
    "# Named function\n",
    "def add_two_nums(a, b):\n",
    "    return a + b\n",
    "\n",
    "print(add_two_nums(2, 3))     \n",
    "# Lets change the above function to a lambda function\n",
    "add_two_nums = lambda a, b: a + b\n",
    "print(add_two_nums(2,3))    \n",
    "\n",
    "# Self invoking lambda function\n",
    "(lambda a, b: a + b)(2,3) # 5 - need to encapsulate it in print() to see the result in the console\n",
    "\n",
    "square = lambda x : x ** 2\n",
    "print(square(3))    \n",
    "cube = lambda x : x ** 3\n",
    "print(cube(3))    \n",
    "\n",
    "# Multiple variables\n",
    "multiple_variable = lambda a, b, c: a ** 2 - 3 * b + 4 * c\n",
    "print(multiple_variable(5, 5, 3)) # 22"
   ]
  },
  {
   "cell_type": "code",
   "execution_count": 7,
   "id": "d6f8d6a9",
   "metadata": {},
   "outputs": [
    {
     "name": "stdout",
     "output_type": "stream",
     "text": [
      "8\n",
      "32\n"
     ]
    }
   ],
   "source": [
    "# Lambda Function Inside Another Function\n",
    "def power(x):\n",
    "    return lambda n : x ** n\n",
    "\n",
    "cube = power(2)(3)   # function power now need 2 arguments to run, in separate rounded brackets\n",
    "print(cube)          # 8\n",
    "two_power_of_five = power(2)(5) \n",
    "print(two_power_of_five)  # 32"
   ]
  }
 ],
 "metadata": {
  "kernelspec": {
   "display_name": "Python 3",
   "language": "python",
   "name": "python3"
  },
  "language_info": {
   "codemirror_mode": {
    "name": "ipython",
    "version": 3
   },
   "file_extension": ".py",
   "mimetype": "text/x-python",
   "name": "python",
   "nbconvert_exporter": "python",
   "pygments_lexer": "ipython3",
   "version": "3.9.6"
  }
 },
 "nbformat": 4,
 "nbformat_minor": 5
}
