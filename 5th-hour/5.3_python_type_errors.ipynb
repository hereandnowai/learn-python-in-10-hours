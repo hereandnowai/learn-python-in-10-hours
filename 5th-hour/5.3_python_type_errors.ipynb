{
 "cells": [
  {
   "cell_type": "markdown",
   "id": "3a4f374b",
   "metadata": {},
   "source": [
    "##### Python Error Types\n",
    "When we write code it is common that we make a typo or some other common error. If our code fails to run, the Python interpreter will display a message, containing feedback with information on where the problem occurs and the type of an error. It will also sometimes gives us suggestions on a possible fix. Understanding different types of errors in programming languages will help us to debug our code quickly and also it makes us better at what we do.\n",
    "\n",
    "Let us see the most common error types one by one. First let us open our Python interactive shell. Go to your you computer terminal and write 'python'. The python interactive shell will be opened."
   ]
  },
  {
   "cell_type": "code",
   "execution_count": 1,
   "id": "6fcf4cd6",
   "metadata": {},
   "outputs": [
    {
     "ename": "SyntaxError",
     "evalue": "invalid syntax (1205276764.py, line 2)",
     "output_type": "error",
     "traceback": [
      "\u001b[0;36m  Cell \u001b[0;32mIn[1], line 2\u001b[0;36m\u001b[0m\n\u001b[0;31m    asabeneh@Asabeneh:~$ python\u001b[0m\n\u001b[0m                       ^\u001b[0m\n\u001b[0;31mSyntaxError\u001b[0m\u001b[0;31m:\u001b[0m invalid syntax\n"
     ]
    }
   ],
   "source": [
    "# SyntaxError\n",
    "asabeneh@Asabeneh:~$ python\n",
    "Python 3.9.6 (default, Jun 28 2021, 15:26:21)\n",
    "[Clang 11.0.0 (clang-1100.0.33.8)] on darwin\n",
    "Type \"help\", \"copyright\", \"credits\" or \"license\" for more information.\n",
    ">>> print 'hello world'\n",
    "File \"<stdin>\", line 1\n",
    "print 'hello world'                      ^"
   ]
  },
  {
   "cell_type": "code",
   "execution_count": null,
   "id": "5102edb2",
   "metadata": {},
   "outputs": [],
   "source": []
  },
  {
   "cell_type": "markdown",
   "id": "30ef96e8",
   "metadata": {},
   "source": [
    "As you can see we made a syntax error because we forgot to enclose the string with parenthesis and Python already suggests the solution."
   ]
  },
  {
   "cell_type": "code",
   "execution_count": 4,
   "id": "55bb5f1a",
   "metadata": {},
   "outputs": [
    {
     "ename": "SyntaxError",
     "evalue": "invalid syntax (2301190248.py, line 1)",
     "output_type": "error",
     "traceback": [
      "\u001b[0;36m  Cell \u001b[0;32mIn[4], line 1\u001b[0;36m\u001b[0m\n\u001b[0;31m    asabeneh@Asabeneh:~$ python\u001b[0m\n\u001b[0m                       ^\u001b[0m\n\u001b[0;31mSyntaxError\u001b[0m\u001b[0;31m:\u001b[0m invalid syntax\n"
     ]
    }
   ],
   "source": [
    "asabeneh@Asabeneh:~$ python\n",
    "Python 3.9.6 (default, Jun 28 2021, 15:26:21)\n",
    "[Clang 11.0.0 (clang-1100.0.33.8)] on darwin\n",
    "Type \"help\", \"copyright\", \"credits\" or \"license\" for more information.\n",
    ">>> print 'hello world'\n",
    "  File \"<stdin>\", line 1\n",
    "    print 'hello world'"
   ]
  },
  {
   "cell_type": "code",
   "execution_count": 5,
   "id": "c6065b01",
   "metadata": {},
   "outputs": [
    {
     "ename": "SyntaxError",
     "evalue": "invalid syntax (1266405405.py, line 2)",
     "output_type": "error",
     "traceback": [
      "\u001b[0;36m  Cell \u001b[0;32mIn[5], line 2\u001b[0;36m\u001b[0m\n\u001b[0;31m    asabeneh@Asabeneh:~$ python\u001b[0m\n\u001b[0m                       ^\u001b[0m\n\u001b[0;31mSyntaxError\u001b[0m\u001b[0;31m:\u001b[0m invalid syntax\n"
     ]
    }
   ],
   "source": [
    "# NameError\n",
    "asabeneh@Asabeneh:~$ python\n",
    "Python 3.9.6 (default, Jun 28 2021, 15:26:21)\n",
    "[Clang 11.0.0 (clang-1100.0.33.8)] on darwin\n",
    "Type \"help\", \"copyright\", \"credits\" or \"license\" for more information.\n",
    ">>> print(age)\n",
    "Traceback (most recent call last):\n",
    "  File \"<stdin>\", line 1, in <module>\n",
    "NameError: name 'age' is not defined\n",
    ">>>"
   ]
  },
  {
   "cell_type": "markdown",
   "id": "cc91935b",
   "metadata": {},
   "source": [
    "As you can see from the message above, name age is not defined. Yes, it is true that we did not define an age variable but we were trying to print it out as if we had had declared it. Now, lets fix this by declaring it and assigning with a value."
   ]
  },
  {
   "cell_type": "code",
   "execution_count": 6,
   "id": "016e931a",
   "metadata": {},
   "outputs": [
    {
     "ename": "SyntaxError",
     "evalue": "invalid syntax (3063904257.py, line 1)",
     "output_type": "error",
     "traceback": [
      "\u001b[0;36m  Cell \u001b[0;32mIn[6], line 1\u001b[0;36m\u001b[0m\n\u001b[0;31m    asabeneh@Asabeneh:~$ python\u001b[0m\n\u001b[0m                       ^\u001b[0m\n\u001b[0;31mSyntaxError\u001b[0m\u001b[0;31m:\u001b[0m invalid syntax\n"
     ]
    }
   ],
   "source": [
    "asabeneh@Asabeneh:~$ python\n",
    "Python 3.9.6 (default, Jun 28 2021, 15:26:21)\n",
    "[Clang 11.0.0 (clang-1100.0.33.8)] on darwin\n",
    "Type \"help\", \"copyright\", \"credits\" or \"license\" for more information.\n",
    ">>> print(age)\n",
    "Traceback (most recent call last):\n",
    "  File \"<stdin>\", line 1, in <module>\n",
    "NameError: name 'age' is not defined\n",
    ">>> age = 25\n",
    ">>> print(age)\n",
    "25\n",
    ">>>"
   ]
  },
  {
   "cell_type": "code",
   "execution_count": 7,
   "id": "e005fd4e",
   "metadata": {},
   "outputs": [
    {
     "ename": "SyntaxError",
     "evalue": "invalid syntax (1510841198.py, line 2)",
     "output_type": "error",
     "traceback": [
      "\u001b[0;36m  Cell \u001b[0;32mIn[7], line 2\u001b[0;36m\u001b[0m\n\u001b[0;31m    asabeneh@Asabeneh:~$ python\u001b[0m\n\u001b[0m                       ^\u001b[0m\n\u001b[0;31mSyntaxError\u001b[0m\u001b[0;31m:\u001b[0m invalid syntax\n"
     ]
    }
   ],
   "source": [
    "# IndexError\n",
    "asabeneh@Asabeneh:~$ python\n",
    "Python 3.9.6 (default, Jun 28 2021, 15:26:21)\n",
    "[Clang 11.0.0 (clang-1100.0.33.8)] on darwin\n",
    "Type \"help\", \"copyright\", \"credits\" or \"license\" for more information.\n",
    ">>> numbers = [1, 2, 3, 4, 5]\n",
    ">>> numbers[5]\n",
    "Traceback (most recent call last):\n",
    "  File \"<stdin>\", line 1, in <module>\n",
    "IndexError: list index out of range\n",
    ">>>"
   ]
  },
  {
   "cell_type": "markdown",
   "id": "da6e37d5",
   "metadata": {},
   "source": [
    "In the example above, Python raised an IndexError, because the list has only indexes from 0 to 4 , so it was out of range."
   ]
  },
  {
   "cell_type": "code",
   "execution_count": 8,
   "id": "6f71eaa7",
   "metadata": {},
   "outputs": [
    {
     "ename": "SyntaxError",
     "evalue": "invalid syntax (2948881238.py, line 2)",
     "output_type": "error",
     "traceback": [
      "\u001b[0;36m  Cell \u001b[0;32mIn[8], line 2\u001b[0;36m\u001b[0m\n\u001b[0;31m    asabeneh@Asabeneh:~$ python\u001b[0m\n\u001b[0m                       ^\u001b[0m\n\u001b[0;31mSyntaxError\u001b[0m\u001b[0;31m:\u001b[0m invalid syntax\n"
     ]
    }
   ],
   "source": [
    "# ModuleNotFoundError\n",
    "asabeneh@Asabeneh:~$ python\n",
    "Python 3.9.6 (default, Jun 28 2021, 15:26:21)\n",
    "[Clang 11.0.0 (clang-1100.0.33.8)] on darwin\n",
    "Type \"help\", \"copyright\", \"credits\" or \"license\" for more information.\n",
    ">>> import maths\n",
    "Traceback (most recent call last):\n",
    "  File \"<stdin>\", line 1, in <module>\n",
    "ModuleNotFoundError: No module named 'maths'\n",
    ">>>"
   ]
  },
  {
   "cell_type": "markdown",
   "id": "1d6975b2",
   "metadata": {},
   "source": [
    "In the example above, I added an extra s to math deliberately and ModuleNotFoundError was raised. Lets fix it by removing the extra s from math."
   ]
  },
  {
   "cell_type": "code",
   "execution_count": 9,
   "id": "66d84a05",
   "metadata": {},
   "outputs": [
    {
     "ename": "SyntaxError",
     "evalue": "invalid syntax (1082691307.py, line 1)",
     "output_type": "error",
     "traceback": [
      "\u001b[0;36m  Cell \u001b[0;32mIn[9], line 1\u001b[0;36m\u001b[0m\n\u001b[0;31m    asabeneh@Asabeneh:~$ python\u001b[0m\n\u001b[0m                       ^\u001b[0m\n\u001b[0;31mSyntaxError\u001b[0m\u001b[0;31m:\u001b[0m invalid syntax\n"
     ]
    }
   ],
   "source": [
    "asabeneh@Asabeneh:~$ python\n",
    "Python 3.9.6 (default, Jun 28 2021, 15:26:21)\n",
    "[Clang 11.0.0 (clang-1100.0.33.8)] on darwin\n",
    "Type \"help\", \"copyright\", \"credits\" or \"license\" for more information.\n",
    ">>> import maths\n",
    "Traceback (most recent call last):\n",
    "  File \"<stdin>\", line 1, in <module>\n",
    "ModuleNotFoundError: No module named 'maths'\n",
    ">>> import math\n",
    ">>>"
   ]
  },
  {
   "cell_type": "code",
   "execution_count": 10,
   "id": "e8c780a2",
   "metadata": {},
   "outputs": [
    {
     "ename": "SyntaxError",
     "evalue": "invalid syntax (4122734210.py, line 2)",
     "output_type": "error",
     "traceback": [
      "\u001b[0;36m  Cell \u001b[0;32mIn[10], line 2\u001b[0;36m\u001b[0m\n\u001b[0;31m    asabeneh@Asabeneh:~$ python\u001b[0m\n\u001b[0m                       ^\u001b[0m\n\u001b[0;31mSyntaxError\u001b[0m\u001b[0;31m:\u001b[0m invalid syntax\n"
     ]
    }
   ],
   "source": [
    "# AttributeError\n",
    "asabeneh@Asabeneh:~$ python\n",
    "Python 3.9.6 (default, Jun 28 2021, 15:26:21)\n",
    "[Clang 11.0.0 (clang-1100.0.33.8)] on darwin\n",
    "Type \"help\", \"copyright\", \"credits\" or \"license\" for more information.\n",
    ">>> import maths\n",
    "Traceback (most recent call last):\n",
    "  File \"<stdin>\", line 1, in <module>\n",
    "ModuleNotFoundError: No module named 'maths'\n",
    ">>> import math\n",
    ">>> math.PI\n",
    "Traceback (most recent call last):\n",
    "  File \"<stdin>\", line 1, in <module>\n",
    "AttributeError: module 'math' has no attribute 'PI'\n",
    ">>>"
   ]
  },
  {
   "cell_type": "markdown",
   "id": "cb6ac6dc",
   "metadata": {},
   "source": [
    "As you can see, I made a mistake again! Instead of pi, I tried to call a PI function from maths module. It raised an attribute error, it means, that the function does not exist in the module. Lets fix it by changing from PI to pi."
   ]
  },
  {
   "cell_type": "code",
   "execution_count": 11,
   "id": "d6350382",
   "metadata": {},
   "outputs": [
    {
     "ename": "SyntaxError",
     "evalue": "invalid syntax (2808810521.py, line 1)",
     "output_type": "error",
     "traceback": [
      "\u001b[0;36m  Cell \u001b[0;32mIn[11], line 1\u001b[0;36m\u001b[0m\n\u001b[0;31m    asabeneh@Asabeneh:~$ python\u001b[0m\n\u001b[0m                       ^\u001b[0m\n\u001b[0;31mSyntaxError\u001b[0m\u001b[0;31m:\u001b[0m invalid syntax\n"
     ]
    }
   ],
   "source": [
    "asabeneh@Asabeneh:~$ python\n",
    "Python 3.9.6 (default, Jun 28 2021, 15:26:21)\n",
    "[Clang 11.0.0 (clang-1100.0.33.8)] on darwin\n",
    "Type \"help\", \"copyright\", \"credits\" or \"license\" for more information.\n",
    ">>> import maths\n",
    "Traceback (most recent call last):\n",
    "  File \"<stdin>\", line 1, in <module>\n",
    "ModuleNotFoundError: No module named 'maths'\n",
    ">>> import math\n",
    ">>> math.PI\n",
    "Traceback (most recent call last):\n",
    "  File \"<stdin>\", line 1, in <module>\n",
    "AttributeError: module 'math' has no attribute 'PI'\n",
    ">>> math.pi\n",
    "3.141592653589793\n",
    ">>>"
   ]
  },
  {
   "cell_type": "code",
   "execution_count": 12,
   "id": "cfbbfd3e",
   "metadata": {},
   "outputs": [
    {
     "ename": "SyntaxError",
     "evalue": "invalid syntax (335742499.py, line 2)",
     "output_type": "error",
     "traceback": [
      "\u001b[0;36m  Cell \u001b[0;32mIn[12], line 2\u001b[0;36m\u001b[0m\n\u001b[0;31m    asabeneh@Asabeneh:~$ python\u001b[0m\n\u001b[0m                       ^\u001b[0m\n\u001b[0;31mSyntaxError\u001b[0m\u001b[0;31m:\u001b[0m invalid syntax\n"
     ]
    }
   ],
   "source": [
    "# KeyError\n",
    "asabeneh@Asabeneh:~$ python\n",
    "Python 3.9.6 (default, Jun 28 2021, 15:26:21)\n",
    "[Clang 11.0.0 (clang-1100.0.33.8)] on darwin\n",
    "Type \"help\", \"copyright\", \"credits\" or \"license\" for more information.\n",
    ">>> users = {'name':'Asab', 'age':250, 'country':'Finland'}\n",
    ">>> users['name']\n",
    "'Asab'\n",
    ">>> users['county']\n",
    "Traceback (most recent call last):\n",
    "  File \"<stdin>\", line 1, in <module>\n",
    "KeyError: 'county'\n",
    ">>>"
   ]
  },
  {
   "cell_type": "markdown",
   "id": "83e92d85",
   "metadata": {},
   "source": [
    "As you can see, there was a typo in the key used to get the dictionary value. so, this is a key error and the fix is quite straight forward."
   ]
  },
  {
   "cell_type": "code",
   "execution_count": 13,
   "id": "c3e2b0f2",
   "metadata": {},
   "outputs": [
    {
     "ename": "SyntaxError",
     "evalue": "invalid syntax (1010285811.py, line 1)",
     "output_type": "error",
     "traceback": [
      "\u001b[0;36m  Cell \u001b[0;32mIn[13], line 1\u001b[0;36m\u001b[0m\n\u001b[0;31m    asabeneh@Asabeneh:~$ python\u001b[0m\n\u001b[0m                       ^\u001b[0m\n\u001b[0;31mSyntaxError\u001b[0m\u001b[0;31m:\u001b[0m invalid syntax\n"
     ]
    }
   ],
   "source": [
    "asabeneh@Asabeneh:~$ python\n",
    "Python 3.9.6 (default, Jun 28 2021, 15:26:21)\n",
    "[Clang 11.0.0 (clang-1100.0.33.8)] on darwin\n",
    "Type \"help\", \"copyright\", \"credits\" or \"license\" for more information.\n",
    ">>> user = {'name':'Asab', 'age':250, 'country':'Finland'}\n",
    ">>> user['name']\n",
    "'Asab'\n",
    ">>> user['county']\n",
    "Traceback (most recent call last):\n",
    "  File \"<stdin>\", line 1, in <module>\n",
    "KeyError: 'county'\n",
    ">>> user['country']\n",
    "'Finland'\n",
    ">>>"
   ]
  },
  {
   "cell_type": "code",
   "execution_count": 14,
   "id": "212c8912",
   "metadata": {},
   "outputs": [
    {
     "ename": "SyntaxError",
     "evalue": "invalid syntax (2535063145.py, line 2)",
     "output_type": "error",
     "traceback": [
      "\u001b[0;36m  Cell \u001b[0;32mIn[14], line 2\u001b[0;36m\u001b[0m\n\u001b[0;31m    asabeneh@Asabeneh:~$ python\u001b[0m\n\u001b[0m                       ^\u001b[0m\n\u001b[0;31mSyntaxError\u001b[0m\u001b[0;31m:\u001b[0m invalid syntax\n"
     ]
    }
   ],
   "source": [
    "# TypeError\n",
    "asabeneh@Asabeneh:~$ python\n",
    "Python 3.9.6 (default, Jun 28 2021, 15:26:21)\n",
    "[Clang 11.0.0 (clang-1100.0.33.8)] on darwin\n",
    "Type \"help\", \"copyright\", \"credits\" or \"license\" for more information.\n",
    ">>> 4 + '3'\n",
    "Traceback (most recent call last):\n",
    "  File \"<stdin>\", line 1, in <module>\n",
    "TypeError: unsupported operand type(s) for +: 'int' and 'str'\n",
    ">>>"
   ]
  },
  {
   "cell_type": "markdown",
   "id": "440d9179",
   "metadata": {},
   "source": [
    "In the example above, a TypeError is raised because we cannot add a number to a string. First solution would be to convert the string to int or float. Another solution would be converting the number to a string (the result then would be '43'). Let us follow the first fix."
   ]
  },
  {
   "cell_type": "code",
   "execution_count": 15,
   "id": "927956b8",
   "metadata": {},
   "outputs": [
    {
     "ename": "SyntaxError",
     "evalue": "invalid syntax (789604312.py, line 1)",
     "output_type": "error",
     "traceback": [
      "\u001b[0;36m  Cell \u001b[0;32mIn[15], line 1\u001b[0;36m\u001b[0m\n\u001b[0;31m    asabeneh@Asabeneh:~$ python\u001b[0m\n\u001b[0m                       ^\u001b[0m\n\u001b[0;31mSyntaxError\u001b[0m\u001b[0;31m:\u001b[0m invalid syntax\n"
     ]
    }
   ],
   "source": [
    "asabeneh@Asabeneh:~$ python\n",
    "Python 3.9.6 (default, Jun 28 2021, 15:26:21)\n",
    "[Clang 11.0.0 (clang-1100.0.33.8)] on darwin\n",
    "Type \"help\", \"copyright\", \"credits\" or \"license\" for more information.\n",
    ">>> 4 + '3'\n",
    "Traceback (most recent call last):\n",
    "  File \"<stdin>\", line 1, in <module>\n",
    "TypeError: unsupported operand type(s) for +: 'int' and 'str'\n",
    ">>> 4 + int('3')\n",
    "7\n",
    ">>> 4 + float('3')\n",
    "7.0\n",
    ">>>"
   ]
  },
  {
   "cell_type": "code",
   "execution_count": 16,
   "id": "58ee5dd6",
   "metadata": {},
   "outputs": [
    {
     "ename": "SyntaxError",
     "evalue": "invalid syntax (2733648574.py, line 2)",
     "output_type": "error",
     "traceback": [
      "\u001b[0;36m  Cell \u001b[0;32mIn[16], line 2\u001b[0;36m\u001b[0m\n\u001b[0;31m    asabeneh@Asabeneh:~$ python\u001b[0m\n\u001b[0m                       ^\u001b[0m\n\u001b[0;31mSyntaxError\u001b[0m\u001b[0;31m:\u001b[0m invalid syntax\n"
     ]
    }
   ],
   "source": [
    "# ImportError\n",
    "asabeneh@Asabeneh:~$ python\n",
    "Python 3.9.6 (default, Jun 28 2021, 15:26:21)\n",
    "[Clang 11.0.0 (clang-1100.0.33.8)] on darwin\n",
    "Type \"help\", \"copyright\", \"credits\" or \"license\" for more information.\n",
    ">>> from math import power\n",
    "Traceback (most recent call last):\n",
    "  File \"<stdin>\", line 1, in <module>\n",
    "ImportError: cannot import name 'power' from 'math'\n",
    ">>>"
   ]
  },
  {
   "cell_type": "markdown",
   "id": "59b6ded6",
   "metadata": {},
   "source": [
    "There is no function called power in the math module, it goes with a different name: pow."
   ]
  },
  {
   "cell_type": "code",
   "execution_count": 17,
   "id": "b143d635",
   "metadata": {},
   "outputs": [
    {
     "ename": "SyntaxError",
     "evalue": "invalid syntax (1964515265.py, line 1)",
     "output_type": "error",
     "traceback": [
      "\u001b[0;36m  Cell \u001b[0;32mIn[17], line 1\u001b[0;36m\u001b[0m\n\u001b[0;31m    asabeneh@Asabeneh:~$ python\u001b[0m\n\u001b[0m                       ^\u001b[0m\n\u001b[0;31mSyntaxError\u001b[0m\u001b[0;31m:\u001b[0m invalid syntax\n"
     ]
    }
   ],
   "source": [
    "asabeneh@Asabeneh:~$ python\n",
    "Python 3.9.6 (default, Jun 28 2021, 15:26:21)\n",
    "[Clang 11.0.0 (clang-1100.0.33.8)] on darwin\n",
    "Type \"help\", \"copyright\", \"credits\" or \"license\" for more information.\n",
    ">>> from math import power\n",
    "Traceback (most recent call last):\n",
    "  File \"<stdin>\", line 1, in <module>\n",
    "ImportError: cannot import name 'power' from 'math'\n",
    ">>> from math import pow\n",
    ">>> pow(2,3)\n",
    "8.0\n",
    ">>>"
   ]
  },
  {
   "cell_type": "code",
   "execution_count": 18,
   "id": "ffc4569a",
   "metadata": {},
   "outputs": [
    {
     "ename": "SyntaxError",
     "evalue": "invalid syntax (2197867866.py, line 2)",
     "output_type": "error",
     "traceback": [
      "\u001b[0;36m  Cell \u001b[0;32mIn[18], line 2\u001b[0;36m\u001b[0m\n\u001b[0;31m    asabeneh@Asabeneh:~$ python\u001b[0m\n\u001b[0m                       ^\u001b[0m\n\u001b[0;31mSyntaxError\u001b[0m\u001b[0;31m:\u001b[0m invalid syntax\n"
     ]
    }
   ],
   "source": [
    "# ValueError\n",
    "asabeneh@Asabeneh:~$ python\n",
    "Python 3.9.6 (default, Jun 28 2021, 15:26:21)\n",
    "[Clang 11.0.0 (clang-1100.0.33.8)] on darwin\n",
    "Type \"help\", \"copyright\", \"credits\" or \"license\" for more information.\n",
    ">>> int('12a')\n",
    "Traceback (most recent call last):\n",
    "  File \"<stdin>\", line 1, in <module>\n",
    "ValueError: invalid literal for int() with base 10: '12a'\n",
    ">>>"
   ]
  },
  {
   "cell_type": "markdown",
   "id": "a9ce29d7",
   "metadata": {},
   "source": [
    "In this case we cannot change the given string to a number, because of the 'a' letter in it."
   ]
  },
  {
   "cell_type": "code",
   "execution_count": 19,
   "id": "5a583e5d",
   "metadata": {},
   "outputs": [
    {
     "ename": "SyntaxError",
     "evalue": "invalid syntax (2261797859.py, line 2)",
     "output_type": "error",
     "traceback": [
      "\u001b[0;36m  Cell \u001b[0;32mIn[19], line 2\u001b[0;36m\u001b[0m\n\u001b[0;31m    asabeneh@Asabeneh:~$ python\u001b[0m\n\u001b[0m                       ^\u001b[0m\n\u001b[0;31mSyntaxError\u001b[0m\u001b[0;31m:\u001b[0m invalid syntax\n"
     ]
    }
   ],
   "source": [
    "# ZeroDivisionError\n",
    "asabeneh@Asabeneh:~$ python\n",
    "Python 3.9.6 (default, Jun 28 2021, 15:26:21)\n",
    "[Clang 11.0.0 (clang-1100.0.33.8)] on darwin\n",
    "Type \"help\", \"copyright\", \"credits\" or \"license\" for more information.\n",
    ">>> 1/0\n",
    "Traceback (most recent call last):\n",
    "  File \"<stdin>\", line 1, in <module>\n",
    "ZeroDivisionError: division by zero\n",
    ">>>"
   ]
  },
  {
   "cell_type": "markdown",
   "id": "3a340403",
   "metadata": {},
   "source": [
    "We cannot divide a number by zero.\n",
    "\n",
    "We have covered some of the python error types, if you want to check more about it check the python documentation about python error types. If you are good at reading the error types then you will be able to fix your bugs fast and you will also become a better programmer."
   ]
  }
 ],
 "metadata": {
  "kernelspec": {
   "display_name": "Python 3",
   "language": "python",
   "name": "python3"
  },
  "language_info": {
   "codemirror_mode": {
    "name": "ipython",
    "version": 3
   },
   "file_extension": ".py",
   "mimetype": "text/x-python",
   "name": "python",
   "nbconvert_exporter": "python",
   "pygments_lexer": "ipython3",
   "version": "3.9.6"
  }
 },
 "nbformat": 4,
 "nbformat_minor": 5
}
