{
 "cells": [
  {
   "cell_type": "markdown",
   "id": "99e39237",
   "metadata": {},
   "source": [
    "##### Setting up Virtual Environments\n",
    "To start with project, it would be better to have a virtual environment. Virtual environment can help us to create an isolated or separate environment. This will help us to avoid conflicts in dependencies across projects. If you write pip freeze on your terminal you will see all the installed packages on your computer. If we use virtualenv, we will access only packages which are specific for that project. Open your terminal and install virtualenv"
   ]
  },
  {
   "cell_type": "markdown",
   "id": "09bfee0b",
   "metadata": {},
   "source": [
    "# pip install virtualenv"
   ]
  },
  {
   "cell_type": "markdown",
   "id": "df5b7424",
   "metadata": {},
   "source": [
    "# Inside the 30DaysOfPython folder create a flask_project folder.\n",
    "\n",
    "After installing the virtualenv package go to your project folder and create a virtual env by writing:"
   ]
  },
  {
   "cell_type": "markdown",
   "id": "04c30235",
   "metadata": {},
   "source": [
    "For Mac/Linux:\n",
    "\n",
    "# asabeneh@Asabeneh:~/Desktop/30DaysOfPython/flask_project\\$ virtualenv venv\n"
   ]
  },
  {
   "cell_type": "markdown",
   "id": "57ef850d",
   "metadata": {},
   "source": [
    "For Windows:\n",
    "# C:\\Users\\User\\Documents\\30DaysOfPython\\flask_project>python -m venv venv"
   ]
  },
  {
   "cell_type": "markdown",
   "id": "7933f37b",
   "metadata": {},
   "source": [
    " I prefer to call the new project venv, but feel free to name it differently. Let us check if the the venv was created by using ls (or dir for windows command prompt) command.\n",
    "\n",
    "# asabeneh@Asabeneh:~/Desktop/30DaysOfPython/flask_project$ ls\n",
    "venv/"
   ]
  },
  {
   "cell_type": "markdown",
   "id": "a718ac6d",
   "metadata": {},
   "source": [
    "# Let us activate the virtual environment by writing the following command at our project folder.\n",
    "\n",
    "For Mac/Linux:\n",
    "# asabeneh@Asabeneh:~/Desktop/30DaysOfPython/flask_project$ source venv/bin/activate"
   ]
  },
  {
   "cell_type": "markdown",
   "id": "1c7a3dad",
   "metadata": {},
   "source": [
    "Activation of the virtual environment in Windows may very on Windows Power shell and git bash.\n",
    "\n",
    " For Windows Power Shell:\n",
    "# C:\\Users\\User\\Documents\\30DaysOfPython\\flask_project> venv\\Scripts\\activate"
   ]
  },
  {
   "cell_type": "markdown",
   "id": "6a3f461f",
   "metadata": {},
   "source": [
    "For Windows Git bash:\n",
    "\n",
    "# C:\\Users\\User\\Documents\\30DaysOfPython\\flask_project> venv\\Scripts\\. activate"
   ]
  },
  {
   "cell_type": "markdown",
   "id": "24400cc7",
   "metadata": {},
   "source": [
    "After you write the activation command, your project directory will start with venv. See the example below.\n",
    "\n",
    "# (venv) asabeneh@Asabeneh:~/Desktop/30DaysOfPython/flask_project$"
   ]
  },
  {
   "cell_type": "markdown",
   "id": "e75195d9",
   "metadata": {},
   "source": [
    "Now, lets check the available packages in this project by writing pip freeze. You will not see any packages.\n",
    "\n",
    "We are going to do a small flask project so let us install flask package to this project.\n",
    "\n",
    "# (venv) asabeneh@Asabeneh:~/Desktop/30DaysOfPython/flask_project$ pip install Flask"
   ]
  },
  {
   "cell_type": "markdown",
   "id": "a760eec3",
   "metadata": {},
   "source": [
    "Now, let us write pip freeze to see a list of installed packages in the project:\n",
    "\n",
    "# (venv) asabeneh@Asabeneh:~/Desktop/30DaysOfPython/flask_project$ pip freeze\n",
    "Click==7.0\n",
    "Flask==1.1.1\n",
    "itsdangerous==1.1.0\n",
    "Jinja2==2.10.3\n",
    "MarkupSafe==1.1.1\n",
    "Werkzeug==0.16.0"
   ]
  },
  {
   "cell_type": "markdown",
   "id": "a2293c36",
   "metadata": {},
   "source": [
    "When you finish you should dactivate active project using deactivate.\n",
    "# (venv) asabeneh@Asabeneh:~/Desktop/30DaysOfPython$ deactivate\n",
    "The necessary modules to work with flask are installed. Now, your project directory is ready for a flask project. You should include the venv to your .gitignore file not to push it to github."
   ]
  }
 ],
 "metadata": {
  "kernelspec": {
   "display_name": "Python 3",
   "language": "python",
   "name": "python3"
  },
  "language_info": {
   "codemirror_mode": {
    "name": "ipython",
    "version": 3
   },
   "file_extension": ".py",
   "mimetype": "text/x-python",
   "name": "python",
   "nbconvert_exporter": "python",
   "pygments_lexer": "ipython3",
   "version": "3.9.6"
  }
 },
 "nbformat": 4,
 "nbformat_minor": 5
}
