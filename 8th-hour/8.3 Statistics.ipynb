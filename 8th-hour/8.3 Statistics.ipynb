{
 "cells": [
  {
   "cell_type": "markdown",
   "id": "ad51c556",
   "metadata": {},
   "source": [
    "# Python for Statistical Analysis\n",
    "# Statistics\n",
    "Statistics is the discipline that studies the collection, organization, displaying, analysing, interpretation and presentation of data. Statistics is a branch of Mathematics that is recommended to be a prerequisite for data science and machine learning. Statistics is a very broad field but we will focus in this section only on the most relevant part. After completing this challenge, you may go onto the web development, data analysis, machine learning and data science path. Whatever path you may follow, at some point in your career you will get data which you may work on. Having some statistical knowledge will help you to make decisions based on data, data tells as they say.\n",
    "\n",
    "# Data\n",
    "What is data? Data is any set of characters that is gathered and translated for some purpose, usually analysis. It can be any character, including text and numbers, pictures, sound, or video. If data is not put in a context, it doesn't make any sense to a human or computer. To make sense from data we need to work on the data using different tools.\n",
    "\n",
    "The work flow of data analysis, data science or machine learning starts from data. Data can be provided from some data source or it can be created. There are structured and unstructured data.\n",
    "\n",
    "Data can be found in small or big format. Most of the data types we will get have been covered in the file handling section.\n",
    "\n",
    "# Statistics Module\n",
    "The Python statistics module provides functions for calculating mathematical statistics of numerical data. The module is not intended to be a competitor to third-party libraries such as NumPy, SciPy, or proprietary full-featured statistics packages aimed at professional statisticians such as Minitab, SAS and Matlab. It is aimed at the level of graphing and scientific calculators.\n",
    "\n",
    "# NumPy\n",
    "In the first section we defined Python as a great general-purpose programming language on its own, but with the help of other popular libraries as(numpy, scipy, matplotlib, pandas etc) it becomes a powerful environment for scientific computing.\n",
    "\n",
    "NumPy is the core library for scientific computing in Python. It provides a high-performance multidimensional array object, and tools for working with arrays.\n",
    "\n",
    "So far, we have been using vscode but from now on I would recommend using Jupyter Notebook. To access jupyter notebook let's install anaconda. If you are using anaconda most of the common packages are included and you don't have install packages if you installed anaconda."
   ]
  },
  {
   "cell_type": "markdown",
   "id": "7a31d8ba",
   "metadata": {},
   "source": [
    "asabeneh@Asabeneh:~/Desktop/30DaysOfPython$ pip install numpy"
   ]
  },
  {
   "cell_type": "markdown",
   "id": "8b074870",
   "metadata": {},
   "source": [
    "# Importing NumPy\n",
    "Jupyter notebook is available if your are in favor of jupyter notebook"
   ]
  },
  {
   "cell_type": "markdown",
   "id": "a5cd78aa",
   "metadata": {},
   "source": [
    "    # How to import numpy\n",
    "    import numpy as np\n",
    "    # How to check the version of the numpy package\n",
    "    print('numpy:', np.__version__)\n",
    "    # Checking the available methods\n",
    "    print(dir(np))"
   ]
  },
  {
   "cell_type": "markdown",
   "id": "fc9d1a14",
   "metadata": {},
   "source": [
    "# Creating numpy array using\n",
    "\n",
    "# Creating int numpy arrays"
   ]
  },
  {
   "cell_type": "markdown",
   "id": "7da468d1",
   "metadata": {},
   "source": [
    "    # Creating python List\n",
    "    python_list = [1,2,3,4,5]\n",
    "\n",
    "    # Checking data types\n",
    "    print('Type:', type (python_list)) # <class 'list'>\n",
    "    #\n",
    "    print(python_list) # [1, 2, 3, 4, 5]\n",
    "\n",
    "    two_dimensional_list = [[0,1,2], [3,4,5], [6,7,8]]\n",
    "\n",
    "    print(two_dimensional_list)  # [[0, 1, 2], [3, 4, 5], [6, 7, 8]]\n",
    "\n",
    "    # Creating Numpy(Numerical Python) array from python list\n",
    "\n",
    "    numpy_array_from_list = np.array(python_list)\n",
    "    print(type (numpy_array_from_list))   # <class 'numpy.ndarray'>\n",
    "    print(numpy_array_from_list) # array([1, 2, 3, 4, 5])"
   ]
  },
  {
   "cell_type": "markdown",
   "id": "c73479fb",
   "metadata": {},
   "source": [
    "# Creating float numpy arrays\n",
    "Creating a float numpy array from list with a float data type parameter"
   ]
  },
  {
   "cell_type": "markdown",
   "id": "e3598a57",
   "metadata": {},
   "source": [
    "    # Python list\n",
    "    python_list = [1,2,3,4,5]\n",
    "\n",
    "    numy_array_from_list2 = np.array(python_list, dtype=float)\n",
    "    print(numy_array_from_list2) # array([1., 2., 3., 4., 5.])"
   ]
  },
  {
   "cell_type": "markdown",
   "id": "c248805a",
   "metadata": {},
   "source": [
    "# Creating boolean numpy arrays\n",
    "Creating a boolean a numpy array from list"
   ]
  },
  {
   "cell_type": "markdown",
   "id": "664ab956",
   "metadata": {},
   "source": [
    "    numpy_bool_array = np.array([0, 1, -1, 0, 0], dtype=bool)\n",
    "    print(numpy_bool_array) # array([False,  True,  True, False, False])"
   ]
  },
  {
   "cell_type": "markdown",
   "id": "2b4e410c",
   "metadata": {},
   "source": [
    "# Creating multidimensional array using numpy\n",
    "A numpy array may have one or multiple rows and columns"
   ]
  },
  {
   "cell_type": "markdown",
   "id": "b776c4de",
   "metadata": {},
   "source": [
    "    two_dimensional_list = [[0,1,2], [3,4,5], [6,7,8]]\n",
    "    numpy_two_dimensional_list = np.array(two_dimensional_list)\n",
    "    print(type (numpy_two_dimensional_list))\n",
    "    print(numpy_two_dimensional_list)"
   ]
  },
  {
   "cell_type": "markdown",
   "id": "842047e0",
   "metadata": {},
   "source": [
    "    <class 'numpy.ndarray'>\n",
    "    [[0 1 2]\n",
    "     [3 4 5]\n",
    "     [6 7 8]]"
   ]
  },
  {
   "cell_type": "markdown",
   "id": "a9509ea6",
   "metadata": {},
   "source": [
    "# Converting numpy array to list"
   ]
  },
  {
   "cell_type": "markdown",
   "id": "2431a707",
   "metadata": {},
   "source": [
    "#We can always convert an array back to a python list using tolist().\n",
    "np_to_list = numpy_array_from_list.tolist()\n",
    "print(type (np_to_list))\n",
    "print('one dimensional array:', np_to_list)\n",
    "print('two dimensional array: ', numpy_two_dimensional_list.tolist())"
   ]
  },
  {
   "cell_type": "markdown",
   "id": "fc2f382f",
   "metadata": {},
   "source": [
    "    <class 'list'>\n",
    "    one dimensional array: [1, 2, 3, 4, 5]\n",
    "    two dimensional array:  [[0, 1, 2], [3, 4, 5], [6, 7, 8]]"
   ]
  },
  {
   "cell_type": "markdown",
   "id": "bae57e27",
   "metadata": {},
   "source": [
    "# Creating numpy array from tuple"
   ]
  },
  {
   "cell_type": "markdown",
   "id": "fff6f6eb",
   "metadata": {},
   "source": [
    "# Numpy array from tuple\n",
    "# Creating tuple in Python\n",
    "python_tuple = (1,2,3,4,5)\n",
    "print(type (python_tuple)) # <class 'tuple'>\n",
    "print('python_tuple: ', python_tuple) # python_tuple:  (1, 2, 3, 4, 5)\n",
    "\n",
    "numpy_array_from_tuple = np.array(python_tuple)\n",
    "print(type (numpy_array_from_tuple)) # <class 'numpy.ndarray'>\n",
    "print('numpy_array_from_tuple: ', numpy_array_from_tuple) # numpy_array_from_tuple:  [1 2 3 4 5]"
   ]
  },
  {
   "cell_type": "markdown",
   "id": "5a52207f",
   "metadata": {},
   "source": [
    "# Shape of numpy array\n",
    "The shape method provide the shape of the array as a tuple. The first is the row and the second is the column. If the array is just one dimensional it returns the size of the array."
   ]
  },
  {
   "cell_type": "markdown",
   "id": "a1532571",
   "metadata": {},
   "source": [
    "    nums = np.array([1, 2, 3, 4, 5])\n",
    "    print(nums)\n",
    "    print('shape of nums: ', nums.shape)\n",
    "    print(numpy_two_dimensional_list)\n",
    "    print('shape of numpy_two_dimensional_list: ', numpy_two_dimensional_list.shape)\n",
    "    three_by_four_array = np.array([[0, 1, 2, 3],\n",
    "        [4,5,6,7],\n",
    "        [8,9,10, 11]])\n",
    "    print(three_by_four_array.shape)"
   ]
  },
  {
   "cell_type": "markdown",
   "id": "b3eb8964",
   "metadata": {},
   "source": [
    "    [1 2 3 4 5]\n",
    "    shape of nums:  (5,)\n",
    "    [[0 1 2]\n",
    "     [3 4 5]\n",
    "     [6 7 8]]\n",
    "    shape of numpy_two_dimensional_list:  (3, 3)\n",
    "    (3, 4)"
   ]
  },
  {
   "cell_type": "markdown",
   "id": "f4bb6d6f",
   "metadata": {},
   "source": [
    "# Data type of numpy array\n",
    "Type of data types: str, int, float, complex, bool, list, None"
   ]
  },
  {
   "cell_type": "markdown",
   "id": "3713d739",
   "metadata": {},
   "source": [
    "int_lists = [-3, -2, -1, 0, 1, 2,3]\n",
    "int_array = np.array(int_lists)\n",
    "float_array = np.array(int_lists, dtype=float)\n",
    "\n",
    "print(int_array)\n",
    "print(int_array.dtype)\n",
    "print(float_array)\n",
    "print(float_array.dtype)"
   ]
  },
  {
   "cell_type": "markdown",
   "id": "ad25e770",
   "metadata": {},
   "source": [
    "    [-3 -2 -1  0  1  2  3]\n",
    "    int64\n",
    "    [-3. -2. -1.  0.  1.  2.  3.]\n",
    "    float64"
   ]
  },
  {
   "cell_type": "markdown",
   "id": "68c5cdb2",
   "metadata": {},
   "source": [
    "# Size of a numpy array\n",
    "In numpy to know the number of items in a numpy array list we use size"
   ]
  },
  {
   "cell_type": "markdown",
   "id": "e5c872f4",
   "metadata": {},
   "source": [
    "numpy_array_from_list = np.array([1, 2, 3, 4, 5])\n",
    "two_dimensional_list = np.array([[0, 1, 2],\n",
    "                              [3, 4, 5],\n",
    "                              [6, 7, 8]])\n",
    "\n",
    "print('The size:', numpy_array_from_list.size) # 5\n",
    "print('The size:', two_dimensional_list.size)  # 3\n"
   ]
  },
  {
   "cell_type": "markdown",
   "id": "dc17b09e",
   "metadata": {},
   "source": [
    "    The size: 5\n",
    "    The size: 9"
   ]
  },
  {
   "cell_type": "markdown",
   "id": "4ca9c36b",
   "metadata": {},
   "source": [
    "# Mathematical Operation using numpy\n",
    "NumPy array is not like exactly like python list. To do mathematical operation in Python list we have to loop through the items but numpy can allow to do any mathematical operation without looping. Mathematical Operation:\n",
    "\n",
    "Addition (+)\n",
    "Subtraction (-)\n",
    "Multiplication (*)\n",
    "Division (/)\n",
    "Modules (%)\n",
    "Floor Division(//)\n",
    "Exponential(**)"
   ]
  },
  {
   "cell_type": "markdown",
   "id": "6246e3a7",
   "metadata": {},
   "source": [
    "# Addition"
   ]
  },
  {
   "cell_type": "markdown",
   "id": "861950c3",
   "metadata": {},
   "source": [
    "# Mathematical Operation\n",
    "# Addition\n",
    "numpy_array_from_list = np.array([1, 2, 3, 4, 5])\n",
    "print('original array: ', numpy_array_from_list)\n",
    "ten_plus_original = numpy_array_from_list  + 10\n",
    "print(ten_plus_original)\n"
   ]
  },
  {
   "cell_type": "markdown",
   "id": "b17e1312",
   "metadata": {},
   "source": [
    "    original array:  [1 2 3 4 5]\n",
    "    [11 12 13 14 15]"
   ]
  },
  {
   "cell_type": "markdown",
   "id": "d7b495a7",
   "metadata": {},
   "source": [
    "# Subtraction"
   ]
  },
  {
   "cell_type": "markdown",
   "id": "c738b5f6",
   "metadata": {},
   "source": [
    "# Subtraction\n",
    "numpy_array_from_list = np.array([1, 2, 3, 4, 5])\n",
    "print('original array: ', numpy_array_from_list)\n",
    "ten_minus_original = numpy_array_from_list  - 10\n",
    "print(ten_minus_original)"
   ]
  },
  {
   "cell_type": "markdown",
   "id": "e2c090d9",
   "metadata": {},
   "source": [
    "    original array:  [1 2 3 4 5]\n",
    "    [-9 -8 -7 -6 -5]"
   ]
  },
  {
   "cell_type": "markdown",
   "id": "5142eba5",
   "metadata": {},
   "source": [
    "# Multiplication"
   ]
  },
  {
   "cell_type": "markdown",
   "id": "7e68fa2b",
   "metadata": {},
   "source": [
    "# Multiplication\n",
    "numpy_array_from_list = np.array([1, 2, 3, 4, 5])\n",
    "print('original array: ', numpy_array_from_list)\n",
    "ten_times_original = numpy_array_from_list * 10\n",
    "print(ten_times_original)"
   ]
  },
  {
   "cell_type": "markdown",
   "id": "8db37fda",
   "metadata": {},
   "source": [
    "    original array:  [1 2 3 4 5]\n",
    "    [10 20 30 40 50]"
   ]
  },
  {
   "cell_type": "markdown",
   "id": "e4ac0875",
   "metadata": {},
   "source": [
    "# Division"
   ]
  },
  {
   "cell_type": "markdown",
   "id": "70c6adcf",
   "metadata": {},
   "source": [
    "# Division\n",
    "numpy_array_from_list = np.array([1, 2, 3, 4, 5])\n",
    "print('original array: ', numpy_array_from_list)\n",
    "ten_times_original = numpy_array_from_list / 10\n",
    "print(ten_times_original)"
   ]
  },
  {
   "cell_type": "markdown",
   "id": "4e51dd72",
   "metadata": {},
   "source": [
    "    original array:  [1 2 3 4 5]\n",
    "    [0.1 0.2 0.3 0.4 0.5]"
   ]
  },
  {
   "cell_type": "markdown",
   "id": "69e19b37",
   "metadata": {},
   "source": [
    "# Modulus"
   ]
  },
  {
   "cell_type": "markdown",
   "id": "0711658d",
   "metadata": {},
   "source": [
    "# Modulus; Finding the remainder\n",
    "numpy_array_from_list = np.array([1, 2, 3, 4, 5])\n",
    "print('original array: ', numpy_array_from_list)\n",
    "ten_times_original = numpy_array_from_list % 3\n",
    "print(ten_times_original)"
   ]
  },
  {
   "cell_type": "markdown",
   "id": "c59138ed",
   "metadata": {},
   "source": [
    "    original array:  [1 2 3 4 5]\n",
    "    [1 2 0 1 2]"
   ]
  },
  {
   "cell_type": "markdown",
   "id": "fcfd6af1",
   "metadata": {},
   "source": [
    "# Floor Division\n"
   ]
  },
  {
   "cell_type": "markdown",
   "id": "622a050b",
   "metadata": {},
   "source": [
    "# Floor division: the division result without the remainder\n",
    "numpy_array_from_list = np.array([1, 2, 3, 4, 5])\n",
    "print('original array: ', numpy_array_from_list)\n",
    "ten_times_original = numpy_array_from_list // 10\n",
    "print(ten_times_original)"
   ]
  },
  {
   "cell_type": "markdown",
   "id": "1969df44",
   "metadata": {},
   "source": [
    "# Exponential"
   ]
  },
  {
   "cell_type": "markdown",
   "metadata": {},
   "source": [
    "# Exponential is finding some number the power of another:\n",
    "numpy_array_from_list = np.array([1, 2, 3, 4, 5])\n",
    "print('original array: ', numpy_array_from_list)\n",
    "ten_times_original = numpy_array_from_list  ** 2\n",
    "print(ten_times_original)"
   ]
  },
  {
   "cell_type": "markdown",
   "id": "b7a2b897",
   "metadata": {},
   "source": [
    "    original array:  [1 2 3 4 5]\n",
    "    [ 1  4  9 16 25]"
   ]
  },
  {
   "cell_type": "markdown",
   "id": "c39d5f37",
   "metadata": {},
   "source": [
    "# Checking data types"
   ]
  },
  {
   "cell_type": "markdown",
   "id": "9e7fc03b",
   "metadata": {},
   "source": [
    "#Int,  Float numbers\n",
    "numpy_int_arr = np.array([1,2,3,4])\n",
    "numpy_float_arr = np.array([1.1, 2.0,3.2])\n",
    "numpy_bool_arr = np.array([-3, -2, 0, 1,2,3], dtype='bool')\n",
    "\n",
    "print(numpy_int_arr.dtype)\n",
    "print(numpy_float_arr.dtype)\n",
    "print(numpy_bool_arr.dtype)"
   ]
  },
  {
   "cell_type": "markdown",
   "id": "1805e24b",
   "metadata": {},
   "source": [
    "    int64\n",
    "    float64\n",
    "    bool"
   ]
  },
  {
   "cell_type": "markdown",
   "id": "dfc53cb0",
   "metadata": {},
   "source": [
    "# Converting types\n",
    "We can convert the data types of numpy array\n",
    "\n",
    "Int to Float"
   ]
  },
  {
   "cell_type": "markdown",
   "id": "a968d7f2",
   "metadata": {},
   "source": [
    "numpy_int_arr = np.array([1,2,3,4], dtype = 'float')\n",
    "numpy_int_arr"
   ]
  },
  {
   "cell_type": "markdown",
   "id": "4e923abb",
   "metadata": {},
   "source": [
    "array([1., 2., 3., 4.])"
   ]
  },
  {
   "cell_type": "markdown",
   "id": "6dd8d083",
   "metadata": {},
   "source": [
    "Float to Int"
   ]
  },
  {
   "cell_type": "markdown",
   "id": "3bf88ef6",
   "metadata": {},
   "source": [
    "numpy_int_arr = np.array([1., 2., 3., 4.], dtype = 'int')\n",
    "numpy_int_arr"
   ]
  },
  {
   "cell_type": "markdown",
   "id": "ba9bd83d",
   "metadata": {},
   "source": [
    "    array([1, 2, 3, 4])"
   ]
  },
  {
   "cell_type": "markdown",
   "id": "99412bd9",
   "metadata": {},
   "source": [
    "Int to boolean"
   ]
  },
  {
   "cell_type": "markdown",
   "id": "82f6e8b5",
   "metadata": {},
   "source": [
    "np.array([-3, -2, 0, 1,2,3], dtype='bool')"
   ]
  },
  {
   "cell_type": "markdown",
   "id": "7639d3b0",
   "metadata": {},
   "source": [
    "    array([ True,  True, False,  True,  True,  True])"
   ]
  },
  {
   "cell_type": "markdown",
   "id": "29ef4adf",
   "metadata": {},
   "source": [
    "Int to str"
   ]
  },
  {
   "cell_type": "markdown",
   "id": "af82ed63",
   "metadata": {},
   "source": [
    "numpy_float_list.astype('int').astype('str')"
   ]
  },
  {
   "cell_type": "markdown",
   "id": "f927f27b",
   "metadata": {},
   "source": [
    "    array(['1', '2', '3'], dtype='<U21')"
   ]
  },
  {
   "cell_type": "markdown",
   "id": "e0e6e54d",
   "metadata": {},
   "source": [
    "# Multi-dimensional Arrays"
   ]
  },
  {
   "cell_type": "markdown",
   "id": "21e5b88a",
   "metadata": {},
   "source": [
    "# 2 Dimension Array\n",
    "two_dimension_array = np.array([(1,2,3),(4,5,6), (7,8,9)])\n",
    "print(type (two_dimension_array))\n",
    "print(two_dimension_array)\n",
    "print('Shape: ', two_dimension_array.shape)\n",
    "print('Size:', two_dimension_array.size)\n",
    "print('Data type:', two_dimension_array.dtype)"
   ]
  },
  {
   "cell_type": "markdown",
   "id": "08fa1e86",
   "metadata": {},
   "source": [
    "    <class 'numpy.ndarray'>\n",
    "    [[1 2 3]\n",
    "     [4 5 6]\n",
    "     [7 8 9]]\n",
    "    Shape:  (3, 3)\n",
    "    Size: 9\n",
    "    Data type: int64"
   ]
  },
  {
   "cell_type": "markdown",
   "id": "e5b54e62",
   "metadata": {},
   "source": [
    "# Getting items from a numpy array"
   ]
  },
  {
   "cell_type": "markdown",
   "id": "5eebc9ca",
   "metadata": {},
   "source": [
    "# 2 Dimension Array\n",
    "two_dimension_array = np.array([[1,2,3],[4,5,6], [7,8,9]])\n",
    "first_row = two_dimension_array[0]\n",
    "second_row = two_dimension_array[1]\n",
    "third_row = two_dimension_array[2]\n",
    "print('First row:', first_row)\n",
    "print('Second row:', second_row)\n",
    "print('Third row: ', third_row)"
   ]
  },
  {
   "cell_type": "markdown",
   "id": "1f0bea95",
   "metadata": {},
   "source": [
    "    First row: [1 2 3]\n",
    "    Second row: [4 5 6]\n",
    "    Third row:  [7 8 9]"
   ]
  },
  {
   "cell_type": "markdown",
   "id": "45cf5b72",
   "metadata": {},
   "source": [
    "first_column= two_dimension_array[:,0]\n",
    "second_column = two_dimension_array[:,1]\n",
    "third_column = two_dimension_array[:,2]\n",
    "print('First column:', first_column)\n",
    "print('Second column:', second_column)\n",
    "print('Third column: ', third_column)\n",
    "print(two_dimension_array)\n"
   ]
  },
  {
   "cell_type": "markdown",
   "id": "803f1b5e",
   "metadata": {},
   "source": [
    "    First column: [1 4 7]\n",
    "    Second column: [2 5 8]\n",
    "    Third column:  [3 6 9]\n",
    "    [[1 2 3]\n",
    "     [4 5 6]\n",
    "     [7 8 9]]"
   ]
  },
  {
   "cell_type": "markdown",
   "id": "dc21fecf",
   "metadata": {},
   "source": [
    "# Slicing Numpy array\n",
    "Slicing in numpy is similar to slicing in python list"
   ]
  },
  {
   "cell_type": "markdown",
   "id": "66d1c0b9",
   "metadata": {},
   "source": [
    "Slicing Numpy array\n",
    "Slicing in numpy is similar to slicing in python list"
   ]
  },
  {
   "cell_type": "markdown",
   "id": "ee566414",
   "metadata": {},
   "source": [
    "    [[1 2]\n",
    "     [4 5]]"
   ]
  },
  {
   "cell_type": "markdown",
   "id": "5e835230",
   "metadata": {},
   "source": [
    "# How to reverse the rows and the whole array?"
   ]
  },
  {
   "cell_type": "markdown",
   "id": "e47a97c6",
   "metadata": {},
   "source": [
    "two_dimension_array[::]"
   ]
  },
  {
   "cell_type": "markdown",
   "id": "42a12436",
   "metadata": {},
   "source": [
    "    array([[1, 2, 3],\n",
    "           [4, 5, 6],\n",
    "           [7, 8, 9]])"
   ]
  },
  {
   "cell_type": "markdown",
   "id": "2399b320",
   "metadata": {},
   "source": [
    "# Reverse the row and column positions\n"
   ]
  },
  {
   "cell_type": "markdown",
   "id": "30049988",
   "metadata": {},
   "source": [
    "    two_dimension_array = np.array([[1,2,3],[4,5,6], [7,8,9]])\n",
    "    two_dimension_array[::-1,::-1]"
   ]
  },
  {
   "cell_type": "markdown",
   "id": "0ef065bf",
   "metadata": {},
   "source": [
    "    array([[9, 8, 7],\n",
    "           [6, 5, 4],\n",
    "           [3, 2, 1]])"
   ]
  },
  {
   "cell_type": "markdown",
   "id": "2c7840b8",
   "metadata": {},
   "source": [
    "# How to represent missing values ?"
   ]
  },
  {
   "cell_type": "markdown",
   "id": "822f6bfb",
   "metadata": {},
   "source": [
    "    print(two_dimension_array)\n",
    "    two_dimension_array[1,1] = 55\n",
    "    two_dimension_array[1,2] =44\n",
    "    print(two_dimension_array)"
   ]
  },
  {
   "cell_type": "markdown",
   "id": "b281f7f2",
   "metadata": {},
   "source": [
    "    [[1 2 3]\n",
    "     [4 5 6]\n",
    "     [7 8 9]]\n",
    "    [[ 1  2  3]\n",
    "     [ 4 55 44]\n",
    "     [ 7  8  9]]"
   ]
  },
  {
   "cell_type": "markdown",
   "id": "e3a900f3",
   "metadata": {},
   "source": [
    "    # Numpy Zeroes\n",
    "    # numpy.zeros(shape, dtype=float, order='C')\n",
    "    numpy_zeroes = np.zeros((3,3),dtype=int,order='C')\n",
    "    numpy_zeroes"
   ]
  },
  {
   "cell_type": "markdown",
   "id": "407a507e",
   "metadata": {},
   "source": [
    "    array([[0, 0, 0],\n",
    "           [0, 0, 0],\n",
    "           [0, 0, 0]])"
   ]
  },
  {
   "cell_type": "markdown",
   "id": "ad3f6abb",
   "metadata": {},
   "source": [
    "# Numpy Zeroes\n",
    "numpy_ones = np.ones((3,3),dtype=int,order='C')\n",
    "print(numpy_ones)"
   ]
  },
  {
   "cell_type": "markdown",
   "id": "4eaa15bb",
   "metadata": {},
   "source": [
    "    [[1 1 1]\n",
    "     [1 1 1]\n",
    "     [1 1 1]]"
   ]
  },
  {
   "cell_type": "markdown",
   "id": "b044601a",
   "metadata": {},
   "source": [
    "twoes = numpy_ones * 2"
   ]
  },
  {
   "cell_type": "markdown",
   "id": "27e3b8f2",
   "metadata": {},
   "source": [
    "# Reshape\n",
    "# numpy.reshape(), numpy.flatten()\n",
    "first_shape  = np.array([(1,2,3), (4,5,6)])\n",
    "print(first_shape)\n",
    "reshaped = first_shape.reshape(3,2)\n",
    "print(reshaped)\n"
   ]
  },
  {
   "cell_type": "markdown",
   "id": "e8b6cfc2",
   "metadata": {},
   "source": [
    "    [[1 2 3]\n",
    "     [4 5 6]]\n",
    "    [[1 2]\n",
    "     [3 4]\n",
    "     [5 6]]"
   ]
  },
  {
   "cell_type": "markdown",
   "id": "7c3766f8",
   "metadata": {},
   "source": [
    "flattened = reshaped.flatten()\n",
    "flattened"
   ]
  },
  {
   "cell_type": "markdown",
   "id": "5a2ea865",
   "metadata": {},
   "source": [
    "    array([1, 2, 3, 4, 5, 6])"
   ]
  },
  {
   "cell_type": "markdown",
   "id": "fbb534b1",
   "metadata": {},
   "source": [
    "    ## Horitzontal Stack\n",
    "    np_list_one = np.array([1,2,3])\n",
    "    np_list_two = np.array([4,5,6])\n",
    "\n",
    "    print(np_list_one + np_list_two)\n",
    "\n",
    "    print('Horizontal Append:', np.hstack((np_list_one, np_list_two)))"
   ]
  },
  {
   "cell_type": "markdown",
   "id": "d1b51b9f",
   "metadata": {},
   "source": [
    "    [5 7 9]\n",
    "    Horizontal Append: [1 2 3 4 5 6]"
   ]
  },
  {
   "cell_type": "markdown",
   "id": "32fb5239",
   "metadata": {},
   "source": [
    "    ## Vertical Stack\n",
    "    print('Vertical Append:', np.vstack((np_list_one, np_list_two)))"
   ]
  },
  {
   "cell_type": "markdown",
   "id": "cccc1d28",
   "metadata": {},
   "source": [
    "    Vertical Append: [[1 2 3]\n",
    "     [4 5 6]]"
   ]
  },
  {
   "cell_type": "markdown",
   "id": "fef11906",
   "metadata": {},
   "source": [
    "# Generating Random Numbers"
   ]
  },
  {
   "cell_type": "markdown",
   "id": "217a0011",
   "metadata": {},
   "source": [
    "    # Generate a random float  number\n",
    "    random_float = np.random.random()\n",
    "    random_float"
   ]
  },
  {
   "cell_type": "markdown",
   "id": "d758134f",
   "metadata": {},
   "source": [
    "    0.018929887384753874"
   ]
  },
  {
   "cell_type": "markdown",
   "id": "33ee46ac",
   "metadata": {},
   "source": [
    "    # Generate a random float  number\n",
    "    random_floats = np.random.random(5)\n",
    "    random_floats"
   ]
  },
  {
   "cell_type": "markdown",
   "id": "fa2cc1cf",
   "metadata": {},
   "source": [
    "    array([0.26392192, 0.35842215, 0.87908478, 0.41902195, 0.78926418])"
   ]
  },
  {
   "cell_type": "markdown",
   "id": "0b74848e",
   "metadata": {},
   "source": [
    "    # Generating a random integers between 0 and 10\n",
    "\n",
    "    random_int = np.random.randint(0, 11)\n",
    "    random_int"
   ]
  },
  {
   "cell_type": "markdown",
   "id": "e2b3f8bd",
   "metadata": {},
   "source": [
    "    4"
   ]
  },
  {
   "cell_type": "markdown",
   "id": "43601f90",
   "metadata": {},
   "source": [
    "    # Generating a random integers between 2 and 11, and creating a one row array\n",
    "    random_int = np.random.randint(2,10, size=4)\n",
    "    random_int"
   ]
  },
  {
   "cell_type": "markdown",
   "id": "e6b337c1",
   "metadata": {},
   "source": [
    "    array([8, 8, 8, 2])"
   ]
  },
  {
   "cell_type": "markdown",
   "id": "7e2c97e5",
   "metadata": {},
   "source": [
    "    # Generating a random integers between 0 and 10\n",
    "    random_int = np.random.randint(2,10, size=(3,3))\n",
    "    random_int"
   ]
  },
  {
   "cell_type": "markdown",
   "id": "50f7897b",
   "metadata": {},
   "source": [
    "    array([[3, 5, 3],\n",
    "           [7, 3, 6],\n",
    "           [2, 3, 3]])"
   ]
  },
  {
   "cell_type": "markdown",
   "id": "52c7b052",
   "metadata": {},
   "source": [
    "# Generationg random numbers"
   ]
  },
  {
   "cell_type": "markdown",
   "id": "4ed024da",
   "metadata": {},
   "source": [
    "    # np.random.normal(mu, sigma, size)\n",
    "    normal_array = np.random.normal(79, 15, 80)\n",
    "    normal_array\n"
   ]
  },
  {
   "cell_type": "markdown",
   "id": "39ecd22a",
   "metadata": {},
   "source": [
    "    array([ 89.49990595,  82.06056961, 107.21445842,  38.69307086,\n",
    "            47.85259157,  93.07381061,  76.40724259,  78.55675184,\n",
    "            72.17358173,  47.9888899 ,  65.10370622,  76.29696568,\n",
    "            95.58234254,  68.14897213,  38.75862686, 122.5587927 ,\n",
    "            67.0762565 ,  95.73990864,  81.97454563,  92.54264805,\n",
    "            59.37035153,  77.76828101,  52.30752166,  64.43109931,\n",
    "            62.63695351,  90.04616138,  75.70009094,  49.87586877,\n",
    "            80.22002414,  68.56708848,  76.27791052,  67.24343975,\n",
    "            81.86363935,  78.22703433, 102.85737041,  65.15700341,\n",
    "            84.87033426,  76.7569997 ,  64.61321853,  67.37244562,\n",
    "            74.4068773 ,  58.65119655,  71.66488727,  53.42458179,\n",
    "            70.26872028,  60.96588544,  83.56129414,  72.14255326,\n",
    "            81.00787609,  71.81264853,  72.64168853,  86.56608717,\n",
    "            94.94667321,  82.32676973,  70.5165446 ,  85.43061003,\n",
    "            72.45526212,  87.34681775,  87.69911217, 103.02831489,\n",
    "            75.28598596,  67.17806893,  92.41274447, 101.06662611,\n",
    "            87.70013935,  70.73980645,  46.40368207,  50.17947092,\n",
    "            61.75618542,  90.26191397,  78.63968639,  70.84550744,\n",
    "            88.91826581, 103.91474733,  66.3064638 ,  79.49726264,\n",
    "            70.81087439,  83.90130623,  87.58555972,  59.95462521])"
   ]
  },
  {
   "cell_type": "markdown",
   "id": "fdd18e7a",
   "metadata": {},
   "source": [
    "# Numpy and Statistics\n"
   ]
  },
  {
   "cell_type": "code",
   "execution_count": null,
   "id": "78ae0747",
   "metadata": {
    "vscode": {
     "languageId": "plaintext"
    }
   },
   "outputs": [],
   "source": [
    "import matplotlib.pyplot as plt\n",
    "import seaborn as sns\n",
    "sns.set()\n",
    "plt.hist(normal_array, color=\"grey\", bins=50)"
   ]
  },
  {
   "cell_type": "code",
   "execution_count": null,
   "id": "977287ed",
   "metadata": {
    "vscode": {
     "languageId": "plaintext"
    }
   },
   "outputs": [],
   "source": [
    "    (array([2., 0., 0., 0., 1., 2., 2., 0., 2., 0., 0., 1., 2., 2., 1., 4., 3.,\n",
    "            4., 2., 7., 2., 2., 5., 4., 2., 4., 3., 2., 1., 5., 3., 0., 3., 2.,\n",
    "            1., 0., 0., 1., 3., 0., 1., 0., 0., 0., 0., 0., 0., 0., 0., 1.]),\n",
    "     array([ 38.69307086,  40.37038529,  42.04769973,  43.72501417,\n",
    "             45.4023286 ,  47.07964304,  48.75695748,  50.43427191,\n",
    "             52.11158635,  53.78890079,  55.46621523,  57.14352966,\n",
    "             58.8208441 ,  60.49815854,  62.17547297,  63.85278741,\n",
    "             65.53010185,  67.20741628,  68.88473072,  70.56204516,\n",
    "             72.23935959,  73.91667403,  75.59398847,  77.27130291,\n",
    "             78.94861734,  80.62593178,  82.30324622,  83.98056065,\n",
    "             85.65787509,  87.33518953,  89.01250396,  90.6898184 ,\n",
    "             92.36713284,  94.04444727,  95.72176171,  97.39907615,\n",
    "             99.07639058, 100.75370502, 102.43101946, 104.1083339 ,\n",
    "            105.78564833, 107.46296277, 109.14027721, 110.81759164,\n",
    "            112.49490608, 114.17222052, 115.84953495, 117.52684939,\n",
    "            119.20416383, 120.88147826, 122.5587927 ]),\n",
    "     <a list of 50 Patch objects>)"
   ]
  },
  {
   "cell_type": "markdown",
   "id": "bcb52d73",
   "metadata": {},
   "source": [
    "# Matrix in numpy\n"
   ]
  },
  {
   "cell_type": "code",
   "execution_count": null,
   "id": "801ecc75",
   "metadata": {
    "vscode": {
     "languageId": "plaintext"
    }
   },
   "outputs": [],
   "source": [
    "four_by_four_matrix = np.matrix(np.ones((4,4), dtype=float))"
   ]
  },
  {
   "cell_type": "code",
   "execution_count": null,
   "id": "5e17a6b5",
   "metadata": {
    "vscode": {
     "languageId": "plaintext"
    }
   },
   "outputs": [],
   "source": [
    "four_by_four_matrix"
   ]
  },
  {
   "cell_type": "code",
   "execution_count": null,
   "id": "de72bdaa",
   "metadata": {
    "vscode": {
     "languageId": "plaintext"
    }
   },
   "outputs": [],
   "source": [
    "matrix([[1., 1., 1., 1.],\n",
    "            [1., 1., 1., 1.],\n",
    "            [1., 1., 1., 1.],\n",
    "            [1., 1., 1., 1.]])"
   ]
  },
  {
   "cell_type": "code",
   "execution_count": null,
   "id": "8a5d2280",
   "metadata": {
    "vscode": {
     "languageId": "plaintext"
    }
   },
   "outputs": [],
   "source": [
    "np.asarray(four_by_four_matrix)[2] = 2\n",
    "four_by_four_matrix"
   ]
  },
  {
   "cell_type": "code",
   "execution_count": null,
   "id": "f31e3646",
   "metadata": {
    "vscode": {
     "languageId": "plaintext"
    }
   },
   "outputs": [],
   "source": [
    "\n",
    "matrix([[1., 1., 1., 1.],\n",
    "            [1., 1., 1., 1.],\n",
    "            [2., 2., 2., 2.],\n",
    "            [1., 1., 1., 1.]])"
   ]
  },
  {
   "cell_type": "markdown",
   "id": "646478ac",
   "metadata": {},
   "source": [
    "# Numpy numpy.arange()\n"
   ]
  },
  {
   "cell_type": "markdown",
   "id": "81d3e42d",
   "metadata": {},
   "source": [
    "What is Arrange?\n",
    "\n",
    "Sometimes, you want to create values that are evenly spaced within a defined interval. For instance, you want to create values from 1 to 10; you can use numpy.arange() function"
   ]
  },
  {
   "cell_type": "markdown",
   "id": "7ab68bd7",
   "metadata": {},
   "source": [
    "\n",
    "# creating list using range(starting, stop, step)\n",
    "lst = range(0, 11, 2)\n",
    "lst"
   ]
  },
  {
   "cell_type": "markdown",
   "id": "03408d9f",
   "metadata": {},
   "source": [
    "range(0, 11, 2)"
   ]
  },
  {
   "cell_type": "markdown",
   "id": "687586c9",
   "metadata": {},
   "source": [
    "for l in lst:\n",
    "    print(l)"
   ]
  },
  {
   "cell_type": "markdown",
   "id": "faa23e91",
   "metadata": {},
   "source": [
    "    2\n",
    "    4\n",
    "    6\n",
    "    8\n",
    "    10"
   ]
  },
  {
   "cell_type": "markdown",
   "id": "78c80d3a",
   "metadata": {},
   "source": [
    "# Similar to range arange numpy.arange(start, stop, step)\n",
    "whole_numbers = np.arange(0, 20, 1)\n",
    "whole_numbers"
   ]
  },
  {
   "cell_type": "markdown",
   "id": "1808f30b",
   "metadata": {},
   "source": [
    "array([ 0,  1,  2,  3,  4,  5,  6,  7,  8,  9, 10, 11, 12, 13, 14, 15, 16,\n",
    "           17, 18, 19])"
   ]
  },
  {
   "cell_type": "code",
   "execution_count": null,
   "id": "df5e4ad3",
   "metadata": {
    "vscode": {
     "languageId": "plaintext"
    }
   },
   "outputs": [],
   "source": [
    "even_numbers = np.arange(2, 20, 2)\n",
    "even_numbers"
   ]
  },
  {
   "cell_type": "markdown",
   "id": "1e780f9b",
   "metadata": {},
   "source": [
    "    array([ 2,  4,  6,  8, 10, 12, 14, 16, 18])"
   ]
  },
  {
   "cell_type": "markdown",
   "id": "1b04e7ab",
   "metadata": {},
   "source": [
    "# Creating sequence of numbers using linspace\n"
   ]
  },
  {
   "cell_type": "markdown",
   "id": "dd67fc6f",
   "metadata": {},
   "source": [
    "# numpy.linspace()\n",
    "# numpy.logspace() in Python with Example\n",
    "# For instance, it can be used to create 10 values from 1 to 5 evenly spaced.\n",
    "np.linspace(1.0, 5.0, num=10)"
   ]
  },
  {
   "cell_type": "markdown",
   "id": "b1b1b034",
   "metadata": {},
   "source": [
    "    array([1.        , 1.44444444, 1.88888889, 2.33333333, 2.77777778,\n",
    "           3.22222222, 3.66666667, 4.11111111, 4.55555556, 5.        ])"
   ]
  },
  {
   "cell_type": "code",
   "execution_count": null,
   "id": "2fae7ec7",
   "metadata": {
    "vscode": {
     "languageId": "plaintext"
    }
   },
   "outputs": [],
   "source": [
    "# not to include the last value in the interval\n",
    "np.linspace(1.0, 5.0, num=5, endpoint=False)"
   ]
  },
  {
   "cell_type": "code",
   "execution_count": null,
   "id": "b1537fdd",
   "metadata": {
    "vscode": {
     "languageId": "plaintext"
    }
   },
   "outputs": [],
   "source": [
    "array([1. , 1.8, 2.6, 3.4, 4.2])"
   ]
  },
  {
   "cell_type": "code",
   "execution_count": null,
   "id": "bc826c94",
   "metadata": {
    "vscode": {
     "languageId": "plaintext"
    }
   },
   "outputs": [],
   "source": [
    "# LogSpace\n",
    "# LogSpace returns even spaced numbers on a log scale. Logspace has the same parameters as np.linspace.\n",
    "\n",
    "# Syntax:\n",
    "\n",
    "# numpy.logspace(start, stop, num, endpoint)\n",
    "\n",
    "np.logspace(2, 4.0, num=4)"
   ]
  },
  {
   "cell_type": "markdown",
   "id": "f6641380",
   "metadata": {},
   "source": [
    "\n",
    "array([  100.        ,   464.15888336,  2154.43469003, 10000.        ])"
   ]
  }
 ],
 "metadata": {
  "language_info": {
   "name": "python"
  }
 },
 "nbformat": 4,
 "nbformat_minor": 5
}
