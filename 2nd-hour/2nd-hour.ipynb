{
 "cells": [
  {
   "cell_type": "code",
   "execution_count": null,
   "id": "67db9f86",
   "metadata": {},
   "outputs": [],
   "source": [
    "# Single line comment\n",
    "letter = 'P'                # A string could be a single character or a bunch of texts\n",
    "print(letter)               # P\n",
    "print(len(letter))          # 1\n",
    "greeting = 'Hello, World!'  # String could be  a single or double quote,\"Hello, World!\"\n",
    "print(greeting)             # Hello, World!\n",
    "print(len(greeting))        # 13\n",
    "sentence = \"I hope you are enjoying learn python in 10 hours challenge\"\n",
    "print(sentence)"
   ]
  },
  {
   "cell_type": "code",
   "execution_count": null,
   "id": "ef449a72",
   "metadata": {},
   "outputs": [],
   "source": [
    "# Multiline String\n",
    "multiline_string = '''We are teachers and enjoy teaching.\n",
    "We didn't find anything as rewarding as empowering people.\n",
    "That is why we created learn python in 10 hours.'''\n",
    "print(multiline_string)\n",
    "\n",
    "print(\"\\n\")\n",
    "\n",
    "# Another way of doing the same thing\n",
    "multiline_string = \"\"\"We are teachers and enjoy teaching.\n",
    "We didn't find anything as rewarding as empowering people.\n",
    "That is why we created learn python in 10 hours.\"\"\"\n",
    "print(multiline_string)"
   ]
  },
  {
   "cell_type": "code",
   "execution_count": null,
   "id": "2a0a3fa0",
   "metadata": {},
   "outputs": [],
   "source": [
    "# String Concatenation\n",
    "first_name = 'Deepti'\n",
    "last_name = 'BALAGOPAL'\n",
    "space = ' '\n",
    "full_name = first_name  +  space + last_name\n",
    "print(full_name) # Deepti BALAGOPAL\n",
    "\n",
    "# Checking length of a string using len() builtin function\n",
    "print(len(first_name))  # 8\n",
    "print(len(last_name))   # 7\n",
    "print(len(first_name) > len(last_name)) # True\n",
    "print(len(full_name)) # 15"
   ]
  },
  {
   "cell_type": "code",
   "execution_count": null,
   "id": "81308a97",
   "metadata": {},
   "outputs": [],
   "source": [
    "#### Unpacking characters \n",
    "language = 'Python'\n",
    "a,b,c,d,e,f = language # unpacking sequence characters into variables\n",
    "print(a) # P\n",
    "print(b) # y\n",
    "print(c) # t \n",
    "print(d) # h\n",
    "print(e) # o\n",
    "print(f) # n"
   ]
  },
  {
   "cell_type": "code",
   "execution_count": null,
   "id": "5a59a5fe",
   "metadata": {},
   "outputs": [],
   "source": [
    "# Accessing characters in strings by index\n",
    "language = 'Python'\n",
    "first_letter = language[0]\n",
    "print(first_letter) # P\n",
    "second_letter = language[1]\n",
    "print(second_letter) # y\n",
    "last_index = len(language) - 1\n",
    "last_letter = language[last_index]\n",
    "print(last_letter) # n"
   ]
  },
  {
   "cell_type": "code",
   "execution_count": null,
   "id": "c0893c6f",
   "metadata": {},
   "outputs": [],
   "source": [
    "# If we want to start from right end we can use negative indexing. -1 is the last index\n",
    "language = 'Python'\n",
    "last_letter = language[-1]\n",
    "print(last_letter) # n\n",
    "second_last = language[-2]\n",
    "print(second_last) # o"
   ]
  },
  {
   "cell_type": "code",
   "execution_count": null,
   "id": "83ce9c99",
   "metadata": {},
   "outputs": [],
   "source": [
    "# Slicing\n",
    "\n",
    "language = 'Python'\n",
    "first_three = language[0:3] # starts at zero index and up to 3 but not include 3\n",
    "last_three = language[3:6]\n",
    "print(last_three) # hon\n",
    "# Another way\n",
    "last_three = language[-3:]\n",
    "print(last_three)   # hon\n",
    "last_three = language[3:]\n",
    "print(last_three)   # hon"
   ]
  },
  {
   "cell_type": "code",
   "execution_count": null,
   "id": "06423220",
   "metadata": {},
   "outputs": [],
   "source": [
    "# Skipping character while splitting Python strings\n",
    "language = 'Python'\n",
    "pto = language[0:6:2] # \n",
    "print(pto) # Pto"
   ]
  },
  {
   "cell_type": "code",
   "execution_count": null,
   "id": "4ae86108",
   "metadata": {},
   "outputs": [],
   "source": [
    "# Escape sequence\n",
    "print('I hope every one enjoying the python challenge.\\nDo you ?') # line break\n",
    "print('Hours\\tTopics\\tExercises')\n",
    "print('Hour 1\\t3\\t5')\n",
    "print('Hour 2\\t3\\t5')\n",
    "print('Hour 3\\t3\\t5')\n",
    "print('Hour 4\\t3\\t5')\n",
    "print('This is a back slash  symbol (\\\\)') # To write a back slash\n",
    "print('In every programming language it starts with \\\"Hello, World!\\\"')"
   ]
  },
  {
   "cell_type": "code",
   "execution_count": null,
   "id": "30eea29c",
   "metadata": {},
   "outputs": [],
   "source": [
    "## String Methods\n",
    "# capitalize(): Converts the first character the string to Capital Letter\n",
    "\n",
    "challenge = 'learn python in 10 hours'\n",
    "print(challenge.capitalize()) # 'Learn python in 10 hours'"
   ]
  },
  {
   "cell_type": "code",
   "execution_count": null,
   "id": "04f530e6",
   "metadata": {},
   "outputs": [],
   "source": [
    "# count(): returns occurrences of substring in string, count(substring, start=.., end=..)\n",
    "\n",
    "challenge = 'learn python in 10 hours'\n",
    "print(challenge.count('n')) # 1\n",
    "print(challenge.count('n', 3, 14)) # 1\n",
    "print(challenge.count('th')) # 1"
   ]
  },
  {
   "cell_type": "code",
   "execution_count": null,
   "id": "7064e415",
   "metadata": {},
   "outputs": [],
   "source": [
    "# endswith(): Checks if a string ends with a specified ending\n",
    "\n",
    "challenge = 'learn python in 10 hours'\n",
    "print(challenge.endswith('ours'))   # True\n",
    "print(challenge.endswith('tion')) # False"
   ]
  },
  {
   "cell_type": "code",
   "execution_count": null,
   "id": "9e01a138",
   "metadata": {},
   "outputs": [],
   "source": [
    "# expandtabs(): Replaces tab character with spaces, default tab size is 8. It takes tab size argument\n",
    "\n",
    "challenge = 'learn\\tpython\\tin\\t10\\thours'\n",
    "print(challenge.expandtabs())   # 'learn   python  in      10      hours'\n",
    "print(challenge.expandtabs(10)) # 'learn     python    in        10        hours'"
   ]
  },
  {
   "cell_type": "code",
   "execution_count": null,
   "id": "80fe192a",
   "metadata": {},
   "outputs": [],
   "source": [
    "# find(): Returns the index of first occurrence of substring\n",
    "\n",
    "challenge = 'learn python in 10 hours'\n",
    "print(challenge.find('y'))  # 7\n",
    "print(challenge.find('th')) # 8"
   ]
  },
  {
   "cell_type": "code",
   "execution_count": null,
   "id": "5787d349",
   "metadata": {},
   "outputs": [],
   "source": [
    "# format()\tformats string into nicer output    \n",
    "first_name = 'Deepti'\n",
    "last_name = 'BALAGOPAL'\n",
    "job = 'Professor'\n",
    "country = 'India'\n",
    "sentence = 'I am {} {}. I am a {}. I live in {}.'.format(first_name, last_name, job, country)\n",
    "print(sentence) # I am Deepti BALAGOPAL. I am a Professor. I live in India.\n",
    "\n",
    "radius = 10\n",
    "pi = 3.14\n",
    "area = pi # radius ## 2\n",
    "result = 'The area of circle with {} is {}'.format(str(radius), str(area))\n",
    "print(result) # The area of circle with 10 is 314.0"
   ]
  },
  {
   "cell_type": "code",
   "execution_count": null,
   "id": "8afbde41",
   "metadata": {},
   "outputs": [],
   "source": [
    "# index(): Returns the index of substring\n",
    "challenge = 'learn python in 10 hours'\n",
    "print(challenge.find('y'))  # 7\n",
    "print(challenge.find('th')) # 8"
   ]
  },
  {
   "cell_type": "code",
   "execution_count": null,
   "id": "1788745c",
   "metadata": {},
   "outputs": [],
   "source": [
    "# isalnum(): Checks alphanumeric character\n",
    "\n",
    "challenge = 'TenHoursPython'\n",
    "print(challenge.isalnum()) # True\n",
    "\n",
    "challenge = '10HoursPython'\n",
    "print(challenge.isalnum()) # True\n",
    "\n",
    "challenge = 'learn python in 10 hours'\n",
    "print(challenge.isalnum()) # False\n",
    "\n",
    "challenge = 'learn python in 10 hours'\n",
    "print(challenge.isalnum()) # False"
   ]
  },
  {
   "cell_type": "code",
   "execution_count": null,
   "id": "08f158e0",
   "metadata": {},
   "outputs": [],
   "source": [
    "# isalpha(): Checks if all characters are alphabets\n",
    "\n",
    "challenge = 'learn python in 10 hours'\n",
    "print(challenge.isalpha()) # True\n",
    "num = '123'\n",
    "print(num.isalpha())      # False"
   ]
  },
  {
   "cell_type": "code",
   "execution_count": null,
   "id": "0972083a",
   "metadata": {},
   "outputs": [],
   "source": [
    "# isdecimal(): Checks Decimal Characters\n",
    "\n",
    "challenge = 'learn python in 10 hours'\n",
    "print(challenge.find('y'))  # 5\n",
    "print(challenge.find('th')) # 0"
   ]
  },
  {
   "cell_type": "code",
   "execution_count": null,
   "id": "4c8391ee",
   "metadata": {},
   "outputs": [],
   "source": [
    "# isdigit(): Checks Digit Characters\n",
    "\n",
    "challenge = 'Ten'\n",
    "print(challenge.isdigit()) # False\n",
    "challenge = '10'\n",
    "print(challenge.isdigit())   # True"
   ]
  },
  {
   "cell_type": "code",
   "execution_count": null,
   "id": "117e4a02",
   "metadata": {},
   "outputs": [],
   "source": [
    "# isdecimal():Checks decimal characters\n",
    "\n",
    "num = '10'\n",
    "print(num.isdecimal()) # True\n",
    "num = '10.5'\n",
    "print(num.isdecimal()) # False"
   ]
  },
  {
   "cell_type": "code",
   "execution_count": null,
   "id": "25daa4f7",
   "metadata": {},
   "outputs": [],
   "source": [
    "# isidentifier():Checks for valid identifier means it check if a string is a valid variable name\n",
    "\n",
    "challenge = '10hoursofpython'\n",
    "print(challenge.isidentifier()) # False, because it starts with a number\n",
    "challenge = 'learn_python_in_10_hours'\n",
    "print(challenge.isidentifier()) # True"
   ]
  },
  {
   "cell_type": "code",
   "execution_count": null,
   "id": "15ab8122",
   "metadata": {},
   "outputs": [],
   "source": [
    "# islower():Checks if all alphabets in a string are lowercase\n",
    "\n",
    "challenge = 'learn python in 10 hours'\n",
    "print(challenge.islower()) # True\n",
    "challenge = 'Learn Python in 10 Hours'\n",
    "print(challenge.islower()) # False"
   ]
  },
  {
   "cell_type": "code",
   "execution_count": null,
   "id": "8532685f",
   "metadata": {},
   "outputs": [],
   "source": [
    "# isupper(): returns if all characters are uppercase characters\n",
    "\n",
    "challenge = 'learn python in 10 hours'\n",
    "print(challenge.isupper()) #  False\n",
    "challenge = 'LEARN PYTHON IN 10 HOURS'\n",
    "print(challenge.isupper()) # True"
   ]
  },
  {
   "cell_type": "code",
   "execution_count": null,
   "id": "00914fc9",
   "metadata": {},
   "outputs": [],
   "source": [
    "# isnumeric():Checks numeric characters\n",
    "\n",
    "num = '10'\n",
    "print(num.isnumeric())      # True\n",
    "print('ten'.isnumeric())    # False"
   ]
  },
  {
   "cell_type": "code",
   "execution_count": null,
   "id": "c495f416",
   "metadata": {},
   "outputs": [],
   "source": [
    "# join(): Returns a concatenated string\n",
    "\n",
    "web_tech = ['HTML', 'CSS', 'JavaScript', 'React']\n",
    "result = '#, '.join(web_tech)\n",
    "print(result) # 'HTML# CSS# JavaScript# React'"
   ]
  },
  {
   "cell_type": "code",
   "execution_count": null,
   "id": "31e20a8f",
   "metadata": {},
   "outputs": [],
   "source": [
    "# strip(): Removes both leading and trailing characters\n",
    "\n",
    "challenge = ' learn python in 10 hours '\n",
    "print(challenge.strip(' '))"
   ]
  },
  {
   "cell_type": "code",
   "execution_count": null,
   "id": "33ab3883",
   "metadata": {},
   "outputs": [],
   "source": [
    "# replace(): Replaces substring inside\n",
    "\n",
    "challenge = 'learn python in 10 hours'\n",
    "print(challenge.replace('python', 'coding')) # learn coding in 10 hours"
   ]
  },
  {
   "cell_type": "code",
   "execution_count": null,
   "id": "a196d99b",
   "metadata": {},
   "outputs": [],
   "source": [
    "# split():Splits String from Left\n",
    "\n",
    "challenge = 'learn python in 10 hours'\n",
    "print(challenge.split()) # ['learn', 'python', 'in', '10', 'hours']"
   ]
  },
  {
   "cell_type": "code",
   "execution_count": null,
   "id": "b0fd67a7",
   "metadata": {},
   "outputs": [],
   "source": [
    "# title(): Returns a Title Cased String\n",
    "\n",
    "challenge = 'learn python in 10 hours'\n",
    "print(challenge.title()) # learn python in 10 hours"
   ]
  },
  {
   "cell_type": "code",
   "execution_count": null,
   "id": "4964cdbc",
   "metadata": {},
   "outputs": [],
   "source": [
    "# swapcase(): Checks if String Starts with the Specified String\n",
    "challenge = 'learn python in 10 hours'\n",
    "print(challenge.swapcase())   # LEARN PYTHON IN 10 HOURS\n",
    "\n",
    "challenge = 'Learn Python In 10 Hours'\n",
    "print(challenge.swapcase())  # lEARN pYTHON iN 10 hOURS"
   ]
  },
  {
   "cell_type": "code",
   "execution_count": null,
   "id": "0a4853bb",
   "metadata": {},
   "outputs": [],
   "source": [
    "# startswith(): Checks if String Starts with the Specified String\n",
    "\n",
    "challenge = 'learn python in 10 hours'\n",
    "print(challenge.startswith('learn')) # True\n",
    "\n",
    "challenge = '10 hours of python'\n",
    "print(challenge.startswith('ten')) # False"
   ]
  }
 ],
 "metadata": {
  "kernelspec": {
   "display_name": ".venv",
   "language": "python",
   "name": "python3"
  },
  "language_info": {
   "codemirror_mode": {
    "name": "ipython",
    "version": 3
   },
   "file_extension": ".py",
   "mimetype": "text/x-python",
   "name": "python",
   "nbconvert_exporter": "python",
   "pygments_lexer": "ipython3",
   "version": "3.10.12"
  }
 },
 "nbformat": 4,
 "nbformat_minor": 5
}
