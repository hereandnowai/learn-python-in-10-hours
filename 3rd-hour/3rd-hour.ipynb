{
 "cells": [
  {
   "cell_type": "markdown",
   "id": "da3aa062",
   "metadata": {},
   "source": [
    "##### list"
   ]
  },
  {
   "cell_type": "code",
   "execution_count": null,
   "id": "0519bbc0",
   "metadata": {},
   "outputs": [],
   "source": [
    "empty_list = list() # this is an empty list, no item in the list\n",
    "print(len(empty_list)) # 0\n",
    "\n",
    "fruits = ['banana', 'orange', 'mango', 'lemon']                     # list of fruits\n",
    "vegetables = ['Tomato', 'Potato', 'Cabbage','Onion', 'Carrot']      # list of vegetables\n",
    "animal_products = ['milk', 'meat', 'butter', 'yoghurt']             # list of animal products\n",
    "web_techs = ['HTML', 'CSS', 'JS', 'React','Redux', 'Node', 'MongDB'] # list of web technologies\n",
    "countries = ['Finland', 'Estonia', 'Denmark', 'Sweden', 'Norway']"
   ]
  },
  {
   "cell_type": "code",
   "execution_count": null,
   "id": "79be3783",
   "metadata": {},
   "outputs": [],
   "source": [
    "# Print the lists and it length\n",
    "print('Fruits:', fruits)\n",
    "print('Number of fruits:', len(fruits))\n",
    "print('Vegetables:', vegetables)\n",
    "print('Number of vegetables:', len(vegetables))\n",
    "print('Animal products:',animal_products)\n",
    "print('Number of animal products:', len(animal_products))\n",
    "print('Web technologies:', web_techs)\n",
    "print('Number of web technologies:', len(web_techs))\n",
    "print('Number of countries:', len(countries))"
   ]
  },
  {
   "cell_type": "code",
   "execution_count": null,
   "id": "2340dd40",
   "metadata": {},
   "outputs": [],
   "source": [
    "# Modifying list\n",
    "\n",
    "fruits = ['banana', 'orange', 'mango', 'lemon'] \n",
    "first_fruit = fruits[0] # we are accessing the first item using its index\n",
    "print(first_fruit)      # banana\n",
    "second_fruit = fruits[1]\n",
    "print(second_fruit)     # orange\n",
    "last_fruit = fruits[3]\n",
    "print(last_fruit) # lemon\n",
    "# Last index\n",
    "last_index = len(fruits) - 1\n",
    "last_fruit = fruits[last_index]"
   ]
  },
  {
   "cell_type": "code",
   "execution_count": null,
   "id": "fe7e77e4",
   "metadata": {},
   "outputs": [],
   "source": [
    "# Accessing items\n",
    "fruits = ['banana', 'orange', 'mango', 'lemon'] \n",
    "last_fruit = fruits[-1]\n",
    "second_last = fruits[-2]\n",
    "print(last_fruit)       # lemon\n",
    "print(second_last)      # mango"
   ]
  },
  {
   "cell_type": "code",
   "execution_count": null,
   "id": "4b6c7f9a",
   "metadata": {},
   "outputs": [],
   "source": [
    "# Slicing items\n",
    "fruits = ['banana', 'orange', 'mango', 'lemon'] \n",
    "all_fruits = fruits[0:4] # it returns all the fruits\n",
    "# this is also give the same result as the above\n",
    "all_fruits = fruits[0:] # if we don't set where to stop it takes all the rest\n",
    "orange_and_mango = fruits[1:3] # it does not include the end index\n",
    "orange_mango_lemon = fruits[1:]\n",
    "\n",
    "fruits = ['banana', 'orange', 'mango', 'lemon'] \n",
    "all_fruits = fruits[-4:] # it returns all the fruits\n",
    "# this is also give the same result as the above\n",
    "orange_and_mango = fruits[-3:-1] # it does not include the end index\n",
    "orange_mango_lemon = fruits[-3:]\n",
    "\n",
    "\n",
    "fruits = ['banana', 'orange', 'mango', 'lemon'] \n",
    "fruits[0] = 'Avocado' \n",
    "print(fruits)       #  ['avocado', 'orange', 'mango', 'lemon']\n",
    "fruits[1] = 'apple'\n",
    "print(fruits)       #  ['avocado', 'apple', 'mango', 'lemon']\n",
    "last_index = len(fruits) - 1\n",
    "fruits[last_index] = 'lime'\n",
    "print(fruits)        #  ['avocado', 'apple', 'mango', 'lime']"
   ]
  },
  {
   "cell_type": "code",
   "execution_count": null,
   "id": "90db4866",
   "metadata": {},
   "outputs": [],
   "source": [
    "# checking items\n",
    "fruits = ['banana', 'orange', 'mango', 'lemon']\n",
    "does_exist = 'banana' in fruits\n",
    "print(does_exist)  # True\n",
    "does_exist = 'lime' in fruits\n",
    "print(does_exist)  # False"
   ]
  },
  {
   "cell_type": "code",
   "execution_count": null,
   "id": "c7334add",
   "metadata": {},
   "outputs": [],
   "source": [
    "# Append\n",
    "fruits = ['banana', 'orange', 'mango', 'lemon']\n",
    "fruits.append('apple')\n",
    "print(fruits)           # ['banana', 'orange', 'mango', 'lemon', 'apple']\n",
    "fruits.append('lime')   # ['banana', 'orange', 'mango', 'lemon', 'apple', 'lime]\n",
    "print(fruits)"
   ]
  },
  {
   "cell_type": "code",
   "execution_count": null,
   "id": "969eef0f",
   "metadata": {},
   "outputs": [],
   "source": [
    "# insert\n",
    "fruits = ['banana', 'orange', 'mango', 'lemon']\n",
    "fruits.insert(2, 'apple') # insert apple between orange and mango\n",
    "print(fruits)           # ['banana', 'orange', 'apple', 'mango', 'lemon']\n",
    "fruits.insert(3, 'lime')   # ['banana', 'orange', 'apple', 'mango', 'lime','lemon',]\n",
    "print(fruits)"
   ]
  },
  {
   "cell_type": "code",
   "execution_count": null,
   "id": "50cc6576",
   "metadata": {},
   "outputs": [],
   "source": [
    "# remove\n",
    "fruits = ['banana', 'orange', 'mango', 'lemon']\n",
    "fruits.remove('banana')\n",
    "print(fruits)  # ['orange', 'mango', 'lemon']\n",
    "fruits.remove('lemon')\n",
    "print(fruits)  # ['orange', 'mango']"
   ]
  },
  {
   "cell_type": "code",
   "execution_count": null,
   "id": "80fa48fc",
   "metadata": {},
   "outputs": [],
   "source": [
    "# pop\n",
    "fruits = ['banana', 'orange', 'mango', 'lemon']\n",
    "fruits.pop()     \n",
    "print(fruits)       # ['banana', 'orange', 'mango']\n",
    "\n",
    "fruits.pop(0)     \n",
    "print(fruits)       # ['orange', 'mango']"
   ]
  },
  {
   "cell_type": "code",
   "execution_count": null,
   "id": "d88e06f5",
   "metadata": {},
   "outputs": [],
   "source": [
    "# del \n",
    "fruits = ['banana', 'orange', 'mango', 'lemon']\n",
    "del fruits[0]     \n",
    "print(fruits)       # ['orange', 'mango', 'lemon']\n",
    "\n",
    "del fruits[1]     \n",
    "print(fruits)       # ['orange', 'lemon']\n",
    "\n",
    "del fruits\n",
    "print(fruits)       # This should give: NameError: name 'fruits' is not defined"
   ]
  },
  {
   "cell_type": "code",
   "execution_count": null,
   "id": "f7a093d4",
   "metadata": {},
   "outputs": [],
   "source": [
    "# clear\n",
    "fruits = ['banana', 'orange', 'mango', 'lemon']\n",
    "fruits.clear()     \n",
    "print(fruits)       # []"
   ]
  },
  {
   "cell_type": "code",
   "execution_count": null,
   "id": "972c34a4",
   "metadata": {},
   "outputs": [],
   "source": [
    "# copying a list\n",
    "\n",
    "fruits = ['banana', 'orange', 'mango', 'lemon']\n",
    "fruits_copy = fruits.copy()     \n",
    "print(fruits_copy)       # ['banana', 'orange', 'mango', 'lemon']"
   ]
  },
  {
   "cell_type": "code",
   "execution_count": null,
   "id": "73296053",
   "metadata": {},
   "outputs": [],
   "source": [
    "# join\n",
    "positive_numbers = [1, 2, 3, 4, 5]\n",
    "zero = [0]\n",
    "negative_numbers = [-5,-4,-3,-2,-1]\n",
    "integers = negative_numbers + zero + positive_numbers\n",
    "print(integers)\n",
    "\n",
    "fruits = ['banana', 'orange', 'mango', 'lemon']\n",
    "vegetables = ['Tomato', 'Potato', 'Cabbage','Onion', 'Carrot'] \n",
    "fruits_and_vegetables = fruits + vegetables\n",
    "print(fruits_and_vegetables )"
   ]
  },
  {
   "cell_type": "code",
   "execution_count": null,
   "id": "0f1540c8",
   "metadata": {},
   "outputs": [],
   "source": [
    "# join with extend\n",
    "num1 = [0, 1, 2, 3]\n",
    "num2= [4, 5, 6]\n",
    "num1.extend(num2)\n",
    "print('Numbers:', num1)\n",
    "\n",
    "negative_numbers = [-5,-4,-3,-2,-1]\n",
    "positive_numbers = [1, 2, 3, 4, 5]\n",
    "zero = [0]\n",
    "\n",
    "negative_numbers.extend(zero)\n",
    "negative_numbers.extend(positive_numbers)\n",
    "print('Integers:', negative_numbers)\n",
    "\n",
    "fruits = ['banana', 'orange', 'mango', 'lemon']\n",
    "vegetables = ['Tomato', 'Potato', 'Cabbage','Onion', 'Carrot'] \n",
    "fruits.extend(vegetables)\n",
    "print('Fruits and vegetables:', fruits )"
   ]
  },
  {
   "cell_type": "code",
   "execution_count": null,
   "id": "f6fcd6a5",
   "metadata": {},
   "outputs": [],
   "source": [
    "# count\n",
    "fruits = ['banana', 'orange', 'mango', 'lemon']\n",
    "print(fruits.count('orange'))   # 1\n",
    "ages = [22, 19, 24, 25, 26, 24, 25, 24]\n",
    "print(ages.count(24))           # 3"
   ]
  },
  {
   "cell_type": "code",
   "execution_count": null,
   "id": "025776e0",
   "metadata": {},
   "outputs": [],
   "source": [
    "# index\n",
    "fruits = ['banana', 'orange', 'mango', 'lemon']\n",
    "print(fruits.index('orange'))   # 1\n",
    "ages = [22, 19, 24, 25, 26, 24, 25, 24]\n",
    "print(ages.index(24)) \n",
    "# Reverse\n",
    "fruits = ['banana', 'orange', 'mango', 'lemon']\n",
    "fruits.reverse()\n",
    "print(fruits)  \n",
    "ages = [22, 19, 24, 25, 26, 24, 25, 24]\n",
    "ages.reverse()\n",
    "print(ages)"
   ]
  },
  {
   "cell_type": "code",
   "execution_count": null,
   "id": "07f9a886",
   "metadata": {},
   "outputs": [],
   "source": [
    "# sort\n",
    "fruits = ['banana', 'orange', 'mango', 'lemon']\n",
    "fruits.sort()\n",
    "print(fruits) \n",
    "fruits.sort(reverse=True)\n",
    "print(fruits)\n",
    "ages = [22, 19, 24, 25, 26, 24, 25, 24]\n",
    "ages.sort()\n",
    "print(ages) \n",
    "ages.sort(reverse=True)\n",
    "print(ages) "
   ]
  },
  {
   "cell_type": "markdown",
   "id": "d6fa89d5",
   "metadata": {},
   "source": [
    "##### tuples"
   ]
  },
  {
   "cell_type": "markdown",
   "id": "04fd54ed",
   "metadata": {},
   "source": [
    "A tuple is a collection of different data types which is ordered and unchangeable (immutable). Tuples are written with round brackets, (). Once a tuple is created, we cannot change its values. We cannot use add, insert, remove methods in a tuple because it is not modifiable (mutable). Unlike list, tuple has few methods. Methods related to tuples:\n",
    "\n",
    "1. tuple(): to create an empty tuple\n",
    "2. count(): to count the number of a specified item in a tuple\n",
    "3. index(): to find the index of a specified item in a tuple\n",
    "4. operator: to join two or more tuples and to create a new tuple"
   ]
  },
  {
   "cell_type": "code",
   "execution_count": 26,
   "id": "f6a523e0",
   "metadata": {},
   "outputs": [],
   "source": [
    "# Creating a Tuple\n",
    "empty_tuple = ()\n",
    "# or using the tuple constructor\n",
    "empty_tuple = tuple()"
   ]
  },
  {
   "cell_type": "code",
   "execution_count": 27,
   "id": "592a00f2",
   "metadata": {},
   "outputs": [],
   "source": [
    "tpl = ('item1', 'item2','item3')\n",
    "fruits = ('banana', 'orange', 'mango', 'lemon')"
   ]
  },
  {
   "cell_type": "code",
   "execution_count": 28,
   "id": "1844d6c0",
   "metadata": {},
   "outputs": [
    {
     "data": {
      "text/plain": [
       "3"
      ]
     },
     "execution_count": 28,
     "metadata": {},
     "output_type": "execute_result"
    }
   ],
   "source": [
    "# Tuple length\n",
    "tpl = ('item1', 'item2', 'item3')\n",
    "len(tpl)"
   ]
  },
  {
   "cell_type": "code",
   "execution_count": 29,
   "id": "606063e0",
   "metadata": {},
   "outputs": [],
   "source": [
    "tpl = ('item1', 'item2', 'item3')\n",
    "first_item = tpl[0]\n",
    "second_item = tpl[1]"
   ]
  },
  {
   "cell_type": "code",
   "execution_count": 31,
   "id": "bd62196e",
   "metadata": {},
   "outputs": [],
   "source": [
    "fruits = ('banana', 'orange', 'mango', 'lemon')\n",
    "first_fruit = fruits[0]\n",
    "second_fruit = fruits[1]\n",
    "last_index =len(fruits) - 1\n",
    "last_fruit = fruits[last_index]"
   ]
  },
  {
   "cell_type": "code",
   "execution_count": 32,
   "id": "b84d8448",
   "metadata": {},
   "outputs": [],
   "source": [
    "tpl = ('item1', 'item2', 'item3','item4')\n",
    "first_item = tpl[-4]\n",
    "second_item = tpl[-3]"
   ]
  },
  {
   "cell_type": "code",
   "execution_count": 33,
   "id": "7c68b350",
   "metadata": {},
   "outputs": [],
   "source": [
    "fruits = ('banana', 'orange', 'mango', 'lemon')\n",
    "first_fruit = fruits[-4]\n",
    "second_fruit = fruits[-3]\n",
    "last_fruit = fruits[-1]"
   ]
  },
  {
   "cell_type": "code",
   "execution_count": 34,
   "id": "b4a32488",
   "metadata": {},
   "outputs": [],
   "source": [
    "# Slicing tuples\n",
    "tpl = ('item1', 'item2', 'item3','item4')\n",
    "all_items = tpl[0:4]         # all items\n",
    "all_items = tpl[0:]         # all items\n",
    "middle_two_items = tpl[1:3]  # does not include item at index 3"
   ]
  },
  {
   "cell_type": "code",
   "execution_count": 35,
   "id": "bf2d728c",
   "metadata": {},
   "outputs": [],
   "source": [
    "fruits = ('banana', 'orange', 'mango', 'lemon')\n",
    "all_fruits = fruits[0:4]    # all items\n",
    "all_fruits= fruits[0:]      # all items\n",
    "orange_mango = fruits[1:3]  # doesn't include item at index 3\n",
    "orange_to_the_rest = fruits[1:]"
   ]
  },
  {
   "cell_type": "code",
   "execution_count": null,
   "id": "8bbc4bac",
   "metadata": {},
   "outputs": [],
   "source": [
    "tpl = ('item1', 'item2', 'item3','item4')\n",
    "all_items = tpl[-4:]         # all items\n",
    "middle_two_items = tpl[-3:-1]  # does not include item at index 3 (-1)"
   ]
  },
  {
   "cell_type": "code",
   "execution_count": 37,
   "id": "2f5840d0",
   "metadata": {},
   "outputs": [],
   "source": [
    "fruits = ('banana', 'orange', 'mango', 'lemon')\n",
    "all_fruits = fruits[-4:]    # all items\n",
    "orange_mango = fruits[-3:-1]  # doesn't include item at index 3\n",
    "orange_to_the_rest = fruits[-3:]"
   ]
  },
  {
   "cell_type": "code",
   "execution_count": null,
   "id": "427f11ec",
   "metadata": {},
   "outputs": [],
   "source": [
    "# Changing Tuples to Lists\n",
    "tpl = ('item1', 'item2', 'item3','item4')\n",
    "lst = list(tpl)\n",
    "\n",
    "fruits = ('banana', 'orange', 'mango', 'lemon')\n",
    "fruits = list(fruits)\n",
    "fruits[0] = 'apple'\n",
    "print(fruits)     # ['apple', 'orange', 'mango', 'lemon']\n",
    "fruits = tuple(fruits)\n",
    "print(fruits)     # ('apple', 'orange', 'mango', 'lemon')"
   ]
  },
  {
   "cell_type": "code",
   "execution_count": 40,
   "id": "ed16debd",
   "metadata": {},
   "outputs": [
    {
     "data": {
      "text/plain": [
       "True"
      ]
     },
     "execution_count": 40,
     "metadata": {},
     "output_type": "execute_result"
    }
   ],
   "source": [
    "# Checking an Item in a Tuple\n",
    "tpl = ('item1', 'item2', 'item3','item4')\n",
    "'item2' in tpl # True\n",
    "\n",
    "fruits = ('banana', 'orange', 'mango', 'lemon')\n",
    "print('orange' in fruits) # True\n",
    "print('apple' in fruits) # False\n",
    "fruits[0] = 'apple' # TypeError: 'tuple' object does not support item assignment"
   ]
  },
  {
   "cell_type": "code",
   "execution_count": null,
   "id": "911b2127",
   "metadata": {},
   "outputs": [],
   "source": [
    "# Joining Tuples\n",
    "tpl1 = ('item1', 'item2', 'item3')\n",
    "tpl2 = ('item4', 'item5','item6')\n",
    "tpl3 = tpl1 + tpl2\n",
    "\n",
    "fruits = ('banana', 'orange', 'mango', 'lemon')\n",
    "vegetables = ('Tomato', 'Potato', 'Cabbage','Onion', 'Carrot')\n",
    "fruits_and_vegetables = fruits + vegetables"
   ]
  },
  {
   "cell_type": "code",
   "execution_count": null,
   "id": "54e0cb4d",
   "metadata": {},
   "outputs": [],
   "source": [
    "# Deleting Tuples | It is not possible to remove a single item in a tuple but it is possible to delete the tuple itself using del.\n",
    "tpl1 = ('item1', 'item2', 'item3')\n",
    "del tpl1\n",
    "\n",
    "fruits = ('banana', 'orange', 'mango', 'lemon')\n",
    "del fruits"
   ]
  },
  {
   "cell_type": "markdown",
   "id": "242534a9",
   "metadata": {},
   "source": [
    "##### sets"
   ]
  },
  {
   "cell_type": "markdown",
   "id": "2da3f3ab",
   "metadata": {},
   "source": [
    "Set is a collection of items. Let me take you back to your elementary or high school Mathematics lesson. The Mathematics definition of a set can be applied also in Python. Set is a collection of unordered and un-indexed distinct elements. In Python set is used to store unique items, and it is possible to find the union, intersection, difference, symmetric difference, subset, super set and disjoint set among sets."
   ]
  },
  {
   "cell_type": "code",
   "execution_count": null,
   "id": "b5c983d9",
   "metadata": {},
   "outputs": [],
   "source": [
    "# Creating an empty set\n",
    "st = set()\n",
    "st = {'item1', 'item2', 'item3', 'item4'}\n",
    "fruits = {'banana', 'orange', 'mango', 'lemon'}"
   ]
  },
  {
   "cell_type": "code",
   "execution_count": null,
   "id": "309dd642",
   "metadata": {},
   "outputs": [],
   "source": [
    "# Getting Set's Length\n",
    "st = {'item1', 'item2', 'item3', 'item4'}\n",
    "len(st)\n",
    "\n",
    "fruits = {'banana', 'orange', 'mango', 'lemon'}\n",
    "len(fruits)"
   ]
  },
  {
   "cell_type": "code",
   "execution_count": 42,
   "id": "afab85ca",
   "metadata": {},
   "outputs": [
    {
     "name": "stdout",
     "output_type": "stream",
     "text": [
      "Does set st contain item3?  True\n",
      "True\n"
     ]
    }
   ],
   "source": [
    "# Checking an Item\n",
    "st = {'item1', 'item2', 'item3', 'item4'}\n",
    "print(\"Does set st contain item3? \", 'item3' in st) # Does set st contain item3? True\n",
    "\n",
    "fruits = {'banana', 'orange', 'mango', 'lemon'}\n",
    "print('mango' in fruits ) # True"
   ]
  },
  {
   "cell_type": "code",
   "execution_count": 48,
   "id": "e26ece99",
   "metadata": {},
   "outputs": [],
   "source": [
    "# Adding Items to a Set\n",
    "st = {'item1', 'item2', 'item3', 'item4'}\n",
    "st.add('item5')\n",
    "\n",
    "fruits = {'banana', 'orange', 'mango', 'lemon'}\n",
    "fruits.add('lime')\n",
    "\n",
    "# Add multiple items using update()\n",
    "st = {'item1', 'item2', 'item3', 'item4'}\n",
    "st.update(['item5','item6','item7'])\n",
    "\n",
    "fruits = {'banana', 'orange', 'mango', 'lemon'}\n",
    "vegetables = ('tomato', 'potato', 'cabbage','onion', 'carrot')\n",
    "fruits.update(vegetables)"
   ]
  },
  {
   "cell_type": "code",
   "execution_count": null,
   "id": "dfa555d2",
   "metadata": {},
   "outputs": [],
   "source": [
    "# Removing Items from a Set\n",
    "st = {'item1', 'item2', 'item3', 'item4'}\n",
    "st.remove('item2')\n",
    "\n",
    "fruits = {'banana', 'orange', 'mango', 'lemon'}\n",
    "fruits.pop()  # removes a random item from the set\n",
    "\n",
    "fruits = {'banana', 'orange', 'mango', 'lemon'}\n",
    "removed_item = fruits.pop() # it removes a random item from the set and returns it"
   ]
  },
  {
   "cell_type": "code",
   "execution_count": null,
   "id": "ab1a55a7",
   "metadata": {},
   "outputs": [],
   "source": [
    "# Clearing Items in a Set\n",
    "st = {'item1', 'item2', 'item3', 'item4'}\n",
    "st.clear()\n",
    "\n",
    "fruits = {'banana', 'orange', 'mango', 'lemon'}\n",
    "fruits.clear()\n",
    "print(fruits) # set()"
   ]
  },
  {
   "cell_type": "code",
   "execution_count": null,
   "id": "760f52f8",
   "metadata": {},
   "outputs": [],
   "source": [
    "# Deleting a Set\n",
    "st = {'item1', 'item2', 'item3', 'item4'}\n",
    "del st\n",
    "\n",
    "fruits = {'banana', 'orange', 'mango', 'lemon'}\n",
    "del fruits"
   ]
  },
  {
   "cell_type": "code",
   "execution_count": null,
   "id": "a06f6237",
   "metadata": {},
   "outputs": [],
   "source": [
    "# Converting List to Set\n",
    "lst = ['item1', 'item2', 'item3', 'item4', 'item1']\n",
    "st = set(lst)  # {'item2', 'item4', 'item1', 'item3'} - the order is random, because sets in general are unordered\n",
    "\n",
    "fruits = ['banana', 'orange', 'mango', 'lemon','orange', 'banana']\n",
    "fruits = set(fruits) # {'mango', 'lemon', 'banana', 'orange'}"
   ]
  },
  {
   "cell_type": "code",
   "execution_count": null,
   "id": "ff76e170",
   "metadata": {},
   "outputs": [
    {
     "name": "stdout",
     "output_type": "stream",
     "text": [
      "{'carrot', 'cabbage', 'potato', 'tomato', 'banana', 'orange', 'mango', 'onion', 'lemon'}\n"
     ]
    }
   ],
   "source": [
    "# Joining Sets\n",
    "st1 = {'item1', 'item2', 'item3', 'item4'}\n",
    "st2 = {'item5', 'item6', 'item7', 'item8'}\n",
    "st3 = st1.union(st2)\n",
    "\n",
    "fruits = {'banana', 'orange', 'mango', 'lemon'}\n",
    "vegetables = {'tomato', 'potato', 'cabbage','onion', 'carrot'}\n",
    "print(fruits.union(vegetables)) # {'lemon', 'carrot', 'tomato', 'banana', 'mango', 'orange', 'cabbage', 'potato', 'onion'}\n",
    "\n",
    "st1 = {'item1', 'item2', 'item3', 'item4'}\n",
    "st2 = {'item5', 'item6', 'item7', 'item8'}\n",
    "st1.update(st2) # st2 contents are added to st1\n",
    "\n",
    "fruits = {'banana', 'orange', 'mango', 'lemon'}\n",
    "vegetables = {'tomato', 'potato', 'cabbage','onion', 'carrot'}\n",
    "fruits.update(vegetables)\n",
    "print(fruits) # {'lemon', 'carrot', 'tomato', 'banana', 'mango', 'orange', 'cabbage', 'potato', 'onion'}"
   ]
  },
  {
   "cell_type": "code",
   "execution_count": null,
   "id": "c2848890",
   "metadata": {},
   "outputs": [],
   "source": [
    "# Finding Intersection Items\n",
    "st1 = {'item1', 'item2', 'item3', 'item4'}\n",
    "st2 = {'item3', 'item2'}\n",
    "st1.intersection(st2) # {'item3', 'item2'}\n",
    "\n",
    "whole_numbers = {0, 1, 2, 3, 4, 5, 6, 7, 8, 9, 10}\n",
    "even_numbers = {0, 2, 4, 6, 8, 10}\n",
    "whole_numbers.intersection(even_numbers) # {0, 2, 4, 6, 8, 10}\n",
    "\n",
    "python = {'p', 'y', 't', 'h', 'o','n'}\n",
    "dragon = {'d', 'r', 'a', 'g', 'o','n'}\n",
    "python.intersection(dragon)     # {'o', 'n'}"
   ]
  },
  {
   "cell_type": "code",
   "execution_count": null,
   "id": "91580776",
   "metadata": {},
   "outputs": [],
   "source": [
    "# Checking Subset and Super Set\n",
    "st1 = {'item1', 'item2', 'item3', 'item4'}\n",
    "st2 = {'item2', 'item3'}\n",
    "st2.issubset(st1) # True\n",
    "st1.issuperset(st2) # True\n",
    "\n",
    "whole_numbers = {0, 1, 2, 3, 4, 5, 6, 7, 8, 9, 10}\n",
    "even_numbers = {0, 2, 4, 6, 8, 10}\n",
    "whole_numbers.issubset(even_numbers) # False, because it is a super set\n",
    "whole_numbers.issuperset(even_numbers) # True\n",
    "\n",
    "python = {'p', 'y', 't', 'h', 'o','n'}\n",
    "dragon = {'d', 'r', 'a', 'g', 'o','n'}\n",
    "python.issubset(dragon)     # False"
   ]
  },
  {
   "cell_type": "code",
   "execution_count": null,
   "id": "386aaaa3",
   "metadata": {},
   "outputs": [],
   "source": [
    "# Checking the Difference Between Two Sets\n",
    "st1 = {'item1', 'item2', 'item3', 'item4'}\n",
    "st2 = {'item2', 'item3'}\n",
    "st2.difference(st1) # set()\n",
    "st1.difference(st2) # {'item1', 'item4'} => st1\\st2\n",
    "\n",
    "whole_numbers = {0, 1, 2, 3, 4, 5, 6, 7, 8, 9, 10}\n",
    "even_numbers = {0, 2, 4, 6, 8, 10}\n",
    "whole_numbers.difference(even_numbers) # {1, 3, 5, 7, 9}\n",
    "\n",
    "python = {'p', 'y', 't', 'o','n'}\n",
    "dragon = {'d', 'r', 'a', 'g', 'o','n'}\n",
    "python.difference(dragon)     # {'p', 'y', 't'}  - the result is unordered (characteristic of sets)\n",
    "dragon.difference(python)     # {'d', 'r', 'a', 'g'}"
   ]
  },
  {
   "cell_type": "code",
   "execution_count": null,
   "id": "d6ecc834",
   "metadata": {},
   "outputs": [],
   "source": [
    "# Finding Symmetric Difference Between Two Sets\n",
    "st1 = {'item1', 'item2', 'item3', 'item4'}\n",
    "st2 = {'item2', 'item3'}\n",
    "# it means (A\\B)∪(B\\A)\n",
    "st2.symmetric_difference(st1) # {'item1', 'item4'}\n",
    "\n",
    "whole_numbers = {0, 1, 2, 3, 4, 5, 6, 7, 8, 9, 10}\n",
    "some_numbers = {1, 2, 3, 4, 5}\n",
    "whole_numbers.symmetric_difference(some_numbers) # {0, 6, 7, 8, 9, 10}\n",
    "\n",
    "python = {'p', 'y', 't', 'h', 'o','n'}\n",
    "dragon = {'d', 'r', 'a', 'g', 'o','n'}\n",
    "python.symmetric_difference(dragon)  # {'r', 't', 'p', 'y', 'g', 'a', 'd', 'h'}"
   ]
  },
  {
   "cell_type": "code",
   "execution_count": null,
   "id": "191d334e",
   "metadata": {},
   "outputs": [],
   "source": [
    "# Joining Sets\n",
    "st1 = {'item1', 'item2', 'item3', 'item4'}\n",
    "st2 = {'item2', 'item3'}\n",
    "st2.isdisjoint(st1) # False\n",
    "\n",
    "even_numbers = {0, 2, 4 ,6, 8}\n",
    "odd_numbers = {1, 3, 5, 7, 9}\n",
    "even_numbers.isdisjoint(odd_numbers) # True, because no common item\n",
    "\n",
    "python = {'p', 'y', 't', 'h', 'o','n'}\n",
    "dragon = {'d', 'r', 'a', 'g', 'o','n'}\n",
    "python.isdisjoint(dragon)  # False, there are common items {'o', 'n'}"
   ]
  },
  {
   "cell_type": "markdown",
   "id": "613fbaf6",
   "metadata": {},
   "source": [
    "##### dictionaries"
   ]
  },
  {
   "cell_type": "markdown",
   "id": "ebb075f6",
   "metadata": {},
   "source": [
    "A dictionary is a collection of unordered, modifiable(mutable) paired (key: value) data type."
   ]
  },
  {
   "cell_type": "code",
   "execution_count": null,
   "id": "4f71f7be",
   "metadata": {},
   "outputs": [],
   "source": [
    "# Creating a Dictionary\n",
    "empty_dict = {}\n",
    "\n",
    "# Dictionary with data values\n",
    "dct = {'key1':'value1', 'key2':'value2', 'key3':'value3', 'key4':'value4'}\n",
    "\n",
    "person = {\n",
    "    'first_name':'Deepti',\n",
    "    'last_name':'BALAGOPAL',\n",
    "    'age':25,\n",
    "    'country':'India',\n",
    "    'is_marred':True,\n",
    "    'skills':['JavaScript', 'React', 'Node', 'MongoDB', 'Python'],\n",
    "    'address':{\n",
    "        'street':'P.H.Road',\n",
    "        'zipcode':'600029'\n",
    "    }\n",
    "    }"
   ]
  },
  {
   "cell_type": "code",
   "execution_count": null,
   "id": "4e2b9306",
   "metadata": {},
   "outputs": [],
   "source": [
    "# Dictionary Length\n",
    "dct = {'key1':'value1', 'key2':'value2', 'key3':'value3', 'key4':'value4'}\n",
    "print(len(dct)) # 4\n",
    "\n",
    "person = {\n",
    "    'first_name':'Deepti',\n",
    "    'last_name':'BALAGOPAL',\n",
    "    'age':25,\n",
    "    'country':'India',\n",
    "    'is_marred':True,\n",
    "    'skills':['JavaScript', 'React', 'Node', 'MongoDB', 'Python'],\n",
    "    'address':{\n",
    "        'street':'P.H.Road',\n",
    "        'zipcode':'600029'\n",
    "    }\n",
    "    }\n",
    "print(len(person)) # 7"
   ]
  },
  {
   "cell_type": "code",
   "execution_count": null,
   "id": "0bf540b3",
   "metadata": {},
   "outputs": [],
   "source": [
    "# Accessing Dictionary Items\n",
    "dct = {'key1':'value1', 'key2':'value2', 'key3':'value3', 'key4':'value4'}\n",
    "print(dct['key1']) # value1\n",
    "print(dct['key4']) # value4\n",
    "\n",
    "person = {\n",
    "    'first_name':'Deepti',\n",
    "    'last_name':'BALAGOPAL',\n",
    "    'age':25,\n",
    "    'country':'India',\n",
    "    'is_marred':True,\n",
    "    'skills':['JavaScript', 'React', 'Node', 'MongoDB', 'Python'],\n",
    "    'address':{\n",
    "        'street':'P.H.Road',\n",
    "        'zipcode':'600029'\n",
    "    }\n",
    "    }\n",
    "print(person['first_name']) # Deepti\n",
    "print(person['country'])    # India\n",
    "print(person['skills'])     # ['JavaScript', 'React', 'Node', 'MongoDB', 'Python']\n",
    "print(person['skills'][0])  # JavaScript\n",
    "print(person['address']['street']) # Space street\n",
    "print(person['city'])       # Error"
   ]
  },
  {
   "cell_type": "markdown",
   "id": "7e135e48",
   "metadata": {},
   "source": [
    "Accessing an item by key name raises an error if the key does not exist. To avoid this error first we have to check if a key exist or we can use the get method. "
   ]
  },
  {
   "cell_type": "code",
   "execution_count": 60,
   "id": "60ba6cb5",
   "metadata": {},
   "outputs": [
    {
     "name": "stdout",
     "output_type": "stream",
     "text": [
      "Deepti\n",
      "India\n",
      "['JavaScript', 'React', 'Node', 'MongoDB', 'Python']\n",
      "None\n"
     ]
    }
   ],
   "source": [
    "person = {\n",
    "    'first_name':'Deepti',\n",
    "    'last_name':'BALAGOPAL',\n",
    "    'age':25,\n",
    "    'country':'India',\n",
    "    'is_marred':True,\n",
    "    'skills':['JavaScript', 'React', 'Node', 'MongoDB', 'Python'],\n",
    "    'address':{\n",
    "        'street':'P.H.Road',\n",
    "        'zipcode':'600029'\n",
    "    }\n",
    "    }\n",
    "print(person.get('first_name')) # Deepti\n",
    "print(person.get('country'))    # India\n",
    "print(person.get('skills')) # ['JavaScript', 'React', 'Node', 'MongoDB', 'Python']\n",
    "print(person.get('city'))   # None"
   ]
  },
  {
   "cell_type": "code",
   "execution_count": 61,
   "id": "a665cd2f",
   "metadata": {},
   "outputs": [
    {
     "name": "stdout",
     "output_type": "stream",
     "text": [
      "{'first_name': 'Deepti', 'last_name': 'BALAGOPAL', 'age': 25, 'country': 'India', 'is_marred': True, 'skills': ['JavaScript', 'React', 'Node', 'MongoDB', 'Python', 'HTML'], 'address': {'street': 'P.H.Road', 'zipcode': '600029'}, 'job_title': 'Instructor'}\n"
     ]
    }
   ],
   "source": [
    "# Adding Items to a Dictionary\n",
    "dct = {'key1':'value1', 'key2':'value2', 'key3':'value3', 'key4':'value4'}\n",
    "dct['key5'] = 'value5'\n",
    "\n",
    "person = {\n",
    "    'first_name':'Deepti',\n",
    "    'last_name':'BALAGOPAL',\n",
    "    'age':25,\n",
    "    'country':'India',\n",
    "    'is_marred':True,\n",
    "    'skills':['JavaScript', 'React', 'Node', 'MongoDB', 'Python'],\n",
    "    'address':{\n",
    "        'street':'P.H.Road',\n",
    "        'zipcode':'600029'\n",
    "    }\n",
    "    }\n",
    "person['job_title'] = 'Instructor'\n",
    "person['skills'].append('HTML')\n",
    "print(person)"
   ]
  },
  {
   "cell_type": "code",
   "execution_count": 64,
   "id": "6f82b44c",
   "metadata": {},
   "outputs": [
    {
     "name": "stdout",
     "output_type": "stream",
     "text": [
      "{'first_name': 'Balaji', 'last_name': 'Kamalakkannan', 'age': 27, 'country': 'India', 'is_marred': True, 'skills': ['JavaScript', 'React', 'Node', 'MongoDB', 'Python'], 'address': {'street': 'P.H.Road', 'zipcode': '600029'}}\n"
     ]
    }
   ],
   "source": [
    "# Modifying Items in a Dictionary\n",
    "dct = {'key1':'value1', 'key2':'value2', 'key3':'value3', 'key4':'value4'}\n",
    "dct['key1'] = 'value-one'\n",
    "\n",
    "person = {\n",
    "    'first_name':'Deepti',\n",
    "    'last_name':'BALAGOPAL',\n",
    "    'age':25,\n",
    "    'country':'India',\n",
    "    'is_marred':True,\n",
    "    'skills':['JavaScript', 'React', 'Node', 'MongoDB', 'Python'],\n",
    "    'address':{\n",
    "        'street':'P.H.Road',\n",
    "        'zipcode':'600029'\n",
    "    }\n",
    "    }\n",
    "\n",
    "person['first_name'] = 'Balaji'\n",
    "person['last_name'] = 'Kamalakkannan'\n",
    "person['age'] = 27\n",
    "print(person)"
   ]
  },
  {
   "cell_type": "code",
   "execution_count": null,
   "id": "66c35ba7",
   "metadata": {},
   "outputs": [],
   "source": [
    "# Checking Keys in a Dictionary\n",
    "dct = {'key1':'value1', 'key2':'value2', 'key3':'value3', 'key4':'value4'}\n",
    "print('key2' in dct) # True\n",
    "print('key5' in dct) # False"
   ]
  },
  {
   "cell_type": "code",
   "execution_count": null,
   "id": "97965bdb",
   "metadata": {},
   "outputs": [],
   "source": [
    "# Removing Key and Value Pairs from a Dictionary\n",
    "dct = {'key1':'value1', 'key2':'value2', 'key3':'value3', 'key4':'value4'}\n",
    "dct.pop('key1') # removes key1 item\n",
    "dct = {'key1':'value1', 'key2':'value2', 'key3':'value3', 'key4':'value4'}\n",
    "dct.popitem() # removes the last item\n",
    "del dct['key2'] # removes key2 item\n",
    "\n",
    "person = {\n",
    "    'first_name':'Deepti',\n",
    "    'last_name':'BALAGOPAL',\n",
    "    'age':25,\n",
    "    'country':'India',\n",
    "    'is_marred':True,\n",
    "    'skills':['JavaScript', 'React', 'Node', 'MongoDB', 'Python'],\n",
    "    'address':{\n",
    "        'street':'P.H.Road',\n",
    "        'zipcode':'600029'\n",
    "    }\n",
    "    }\n",
    "person.pop('first_name')        # Removes the firstname item\n",
    "person.popitem()                # Removes the address item\n",
    "del person['is_married']        # Removes the is_married item"
   ]
  },
  {
   "cell_type": "code",
   "execution_count": 65,
   "id": "8824fb9d",
   "metadata": {},
   "outputs": [
    {
     "name": "stdout",
     "output_type": "stream",
     "text": [
      "dict_items([('key1', 'value1'), ('key2', 'value2'), ('key3', 'value3'), ('key4', 'value4')])\n"
     ]
    }
   ],
   "source": [
    "# Changing Dictionary to a List of Items\n",
    "# The items() method changes dictionary to a list of tuples.\n",
    "\n",
    "dct = {'key1':'value1', 'key2':'value2', 'key3':'value3', 'key4':'value4'}\n",
    "print(dct.items()) # dict_items([('key1', 'value1'), ('key2', 'value2'), ('key3', 'value3'), ('key4', 'value4')])"
   ]
  },
  {
   "cell_type": "code",
   "execution_count": null,
   "id": "435f690f",
   "metadata": {},
   "outputs": [],
   "source": [
    "# Clearing a Dictionary\n",
    "dct = {'key1':'value1', 'key2':'value2', 'key3':'value3', 'key4':'value4'}\n",
    "print(dct.clear()) # None"
   ]
  },
  {
   "cell_type": "code",
   "execution_count": null,
   "id": "267ba128",
   "metadata": {},
   "outputs": [],
   "source": [
    "# Deleting a Dictionary\n",
    "dct = {'key1':'value1', 'key2':'value2', 'key3':'value3', 'key4':'value4'}\n",
    "del dct"
   ]
  },
  {
   "cell_type": "code",
   "execution_count": null,
   "id": "2f2db9dd",
   "metadata": {},
   "outputs": [],
   "source": [
    "# Copy a Dictionary\n",
    "dct = {'key1':'value1', 'key2':'value2', 'key3':'value3', 'key4':'value4'}\n",
    "dct_copy = dct.copy() # {'key1':'value1', 'key2':'value2', 'key3':'value3', 'key4':'value4'}"
   ]
  },
  {
   "cell_type": "code",
   "execution_count": null,
   "id": "2745aa92",
   "metadata": {},
   "outputs": [],
   "source": [
    "# Getting Dictionary Keys as a List\n",
    "dct = {'key1':'value1', 'key2':'value2', 'key3':'value3', 'key4':'value4'}\n",
    "keys = dct.keys()\n",
    "print(keys)     # dict_keys(['key1', 'key2', 'key3', 'key4'])"
   ]
  },
  {
   "cell_type": "code",
   "execution_count": null,
   "id": "c71f6286",
   "metadata": {},
   "outputs": [],
   "source": [
    "# Getting Dictionary Values as a List\n",
    "dct = {'key1':'value1', 'key2':'value2', 'key3':'value3', 'key4':'value4'}\n",
    "values = dct.values()\n",
    "print(values)     # dict_values(['value1', 'value2', 'value3', 'value4'])"
   ]
  }
 ],
 "metadata": {
  "kernelspec": {
   "display_name": ".venv",
   "language": "python",
   "name": "python3"
  },
  "language_info": {
   "codemirror_mode": {
    "name": "ipython",
    "version": 3
   },
   "file_extension": ".py",
   "mimetype": "text/x-python",
   "name": "python",
   "nbconvert_exporter": "python",
   "pygments_lexer": "ipython3",
   "version": "3.10.12"
  }
 },
 "nbformat": 4,
 "nbformat_minor": 5
}
