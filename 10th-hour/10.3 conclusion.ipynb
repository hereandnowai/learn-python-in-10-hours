{
 "cells": [
  {
   "cell_type": "markdown",
   "id": "ca6a80c7",
   "metadata": {},
   "source": [
    "# Conclusions\n",
    "In the process of preparing this material I have learned quite a lot and you have inspired me to do more. Congratulations for making it to this level. If you have done all the exercise and the projects, now you are capable to go to a data analysis, data science, machine learning or web development paths. Support the author for more educational materials.\n",
    "\n",
    "## Testimony\n",
    "Now it is time to express your thoughts about the Author and 30DaysOfPyhton. You can leave your testimonial on this link\n",
    "\n",
    "GIVE FEEDBACK: http://thirtydayofpython-api.herokuapp.com/feedback\n",
    "\n",
    "🎉 CONGRATULATIONS ! 🎉"
   ]
  }
 ],
 "metadata": {
  "language_info": {
   "name": "python"
  }
 },
 "nbformat": 4,
 "nbformat_minor": 5
}
